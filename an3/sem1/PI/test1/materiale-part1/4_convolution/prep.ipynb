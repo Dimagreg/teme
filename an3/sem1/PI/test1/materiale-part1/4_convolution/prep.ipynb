{
 "cells": [
  {
   "cell_type": "code",
   "execution_count": 8,
   "metadata": {},
   "outputs": [],
   "source": [
    "import torch\n",
    "from torchvision.datasets import FashionMNIST\n",
    "from torchvision.transforms import ToTensor, Grayscale\n",
    "\n",
    "import matplotlib.pyplot as plt\n",
    "import torch.nn as nn"
   ]
  },
  {
   "cell_type": "code",
   "execution_count": 9,
   "metadata": {},
   "outputs": [],
   "source": [
    "torch.set_printoptions(sci_mode = False)"
   ]
  },
  {
   "cell_type": "code",
   "execution_count": 10,
   "metadata": {},
   "outputs": [],
   "source": [
    "trainset = FashionMNIST(root='./data', train=True, download=True, transform=ToTensor())"
   ]
  },
  {
   "cell_type": "code",
   "execution_count": 11,
   "metadata": {},
   "outputs": [],
   "source": [
    "img = torch.rand((1, 7, 7))"
   ]
  },
  {
   "cell_type": "code",
   "execution_count": 12,
   "metadata": {},
   "outputs": [],
   "source": [
    "model = nn.Conv2d(1, 1, kernel_size = 2)"
   ]
  },
  {
   "cell_type": "code",
   "execution_count": 13,
   "metadata": {},
   "outputs": [
    {
     "data": {
      "text/plain": [
       "tensor([[[0.5504, 0.3528, 0.3857, 0.0591, 0.1948, 0.4175, 0.7600],\n",
       "         [0.2981, 0.3739, 0.6321, 0.9845, 0.7765, 0.7117, 0.2772],\n",
       "         [0.2263, 0.6372, 0.8337, 0.5481, 0.7936, 0.7689, 0.9719],\n",
       "         [0.0265, 0.9939, 0.9210, 0.5871, 0.8004, 0.4532, 0.6992],\n",
       "         [0.9257, 0.0366, 0.0082, 0.3199, 0.8575, 0.2644, 0.3538],\n",
       "         [0.5006, 0.9529, 0.4313, 0.0055, 0.1042, 0.4282, 0.1280],\n",
       "         [0.8559, 0.1681, 0.4814, 0.9228, 0.0250, 0.9666, 0.0652]]])"
      ]
     },
     "execution_count": 13,
     "metadata": {},
     "output_type": "execute_result"
    }
   ],
   "source": [
    "img"
   ]
  },
  {
   "cell_type": "code",
   "execution_count": 14,
   "metadata": {},
   "outputs": [
    {
     "data": {
      "text/plain": [
       "Parameter containing:\n",
       "tensor([[[[-0.2044, -0.3355],\n",
       "          [ 0.0536,  0.2824]]]], requires_grad=True)"
      ]
     },
     "execution_count": 14,
     "metadata": {},
     "output_type": "execute_result"
    }
   ],
   "source": [
    "model.weight"
   ]
  },
  {
   "cell_type": "code",
   "execution_count": 15,
   "metadata": {},
   "outputs": [
    {
     "data": {
      "text/plain": [
       "Parameter containing:\n",
       "tensor([0.3231], requires_grad=True)"
      ]
     },
     "execution_count": 15,
     "metadata": {},
     "output_type": "execute_result"
    }
   ],
   "source": [
    "model.bias"
   ]
  },
  {
   "cell_type": "code",
   "execution_count": 16,
   "metadata": {},
   "outputs": [],
   "source": [
    "output = model(img)"
   ]
  },
  {
   "cell_type": "code",
   "execution_count": 17,
   "metadata": {},
   "outputs": [
    {
     "data": {
      "text/plain": [
       "tensor([[[     0.2137,      0.3201,      0.5363,      0.5177,      0.3858,\n",
       "               0.0992],\n",
       "         [     0.3288,      0.3042,      0.0630,      0.1148,      0.1852,\n",
       "               0.4003],\n",
       "         [     0.3451,      0.2264,      0.1839,      0.2023,      0.0737,\n",
       "               0.0615],\n",
       "         [     0.0441,     -0.1849,      0.0286,      0.1938,      0.1280,\n",
       "               0.1099],\n",
       "         [     0.4175,      0.4857,      0.2387,     -0.0003,      0.1856,\n",
       "               0.2094],\n",
       "         [    -0.0056,      0.1285,      0.5195,      0.3435,      0.4324,\n",
       "               0.2628]]], grad_fn=<SqueezeBackward1>)"
      ]
     },
     "execution_count": 17,
     "metadata": {},
     "output_type": "execute_result"
    }
   ],
   "source": [
    "output"
   ]
  },
  {
   "cell_type": "code",
   "execution_count": 18,
   "metadata": {},
   "outputs": [],
   "source": [
    "from PIL import Image"
   ]
  },
  {
   "cell_type": "code",
   "execution_count": 19,
   "metadata": {},
   "outputs": [],
   "source": [
    "car_image = Image.open(\"car3.jpg\")"
   ]
  },
  {
   "cell_type": "code",
   "execution_count": 20,
   "metadata": {},
   "outputs": [],
   "source": [
    "tensor_image = Grayscale()(ToTensor()(car_image))"
   ]
  },
  {
   "cell_type": "code",
   "execution_count": 21,
   "metadata": {},
   "outputs": [
    {
     "data": {
      "text/plain": [
       "torch.Size([1, 270, 480])"
      ]
     },
     "execution_count": 21,
     "metadata": {},
     "output_type": "execute_result"
    }
   ],
   "source": [
    "tensor_image.shape"
   ]
  },
  {
   "cell_type": "code",
   "execution_count": 22,
   "metadata": {},
   "outputs": [],
   "source": [
    "convolution = nn.Conv2d(1, 1, kernel_size = 3)"
   ]
  },
  {
   "cell_type": "code",
   "execution_count": 23,
   "metadata": {},
   "outputs": [
    {
     "data": {
      "text/plain": [
       "torch.Size([1])"
      ]
     },
     "execution_count": 23,
     "metadata": {},
     "output_type": "execute_result"
    }
   ],
   "source": [
    "convolution.bias.data.shape"
   ]
  },
  {
   "cell_type": "code",
   "execution_count": 24,
   "metadata": {},
   "outputs": [],
   "source": [
    "convolution.weight.data = torch.Tensor([[[[-1, -1, -1], [-1, -1, -1], [-1, 8, -1]]]])"
   ]
  },
  {
   "cell_type": "code",
   "execution_count": 25,
   "metadata": {},
   "outputs": [],
   "source": [
    "convolution.bias.data = torch.Tensor([0])"
   ]
  },
  {
   "cell_type": "code",
   "execution_count": 26,
   "metadata": {},
   "outputs": [],
   "source": [
    "output_image = convolution(tensor_image)"
   ]
  },
  {
   "cell_type": "code",
   "execution_count": 27,
   "metadata": {},
   "outputs": [
    {
     "data": {
      "text/plain": [
       "torch.Size([1, 268, 478])"
      ]
     },
     "execution_count": 27,
     "metadata": {},
     "output_type": "execute_result"
    }
   ],
   "source": [
    "output_image.shape"
   ]
  },
  {
   "cell_type": "code",
   "execution_count": 28,
   "metadata": {},
   "outputs": [],
   "source": [
    "import matplotlib.pyplot as plt"
   ]
  },
  {
   "cell_type": "code",
   "execution_count": 29,
   "metadata": {},
   "outputs": [],
   "source": [
    "plt.imsave(\"original.png\", tensor_image[0], cmap = \"gray\")"
   ]
  },
  {
   "cell_type": "code",
   "execution_count": 30,
   "metadata": {},
   "outputs": [
    {
     "data": {
      "text/plain": [
       "<matplotlib.image.AxesImage at 0x18ce25b5af0>"
      ]
     },
     "execution_count": 30,
     "metadata": {},
     "output_type": "execute_result"
    },
    {
     "data": {
      "image/png": "[encoded data removed]",
      "text/plain": [
       "<Figure size 640x480 with 1 Axes>"
      ]
     },
     "metadata": {},
     "output_type": "display_data"
    }
   ],
   "source": [
    "plt.imshow(tensor_image[0], cmap = \"gray\")"
   ]
  },
  {
   "cell_type": "code",
   "execution_count": 31,
   "metadata": {},
   "outputs": [
    {
     "data": {
      "text/plain": [
       "<matplotlib.image.AxesImage at 0x18ce26925e0>"
      ]
     },
     "execution_count": 31,
     "metadata": {},
     "output_type": "execute_result"
    },
    {
     "data": {
      "image/png": "[encoded data removed]",
      "text/plain": [
       "<Figure size 640x480 with 1 Axes>"
      ]
     },
     "metadata": {},
     "output_type": "display_data"
    }
   ],
   "source": [
    "plt.imshow(output_image.detach()[0], cmap = \"gray\")"
   ]
  },
  {
   "cell_type": "code",
   "execution_count": 32,
   "metadata": {},
   "outputs": [],
   "source": [
    "plt.imsave(\"edges.png\", output_image.detach()[0], cmap  = \"gray\")"
   ]
  },
  {
   "cell_type": "code",
   "execution_count": 33,
   "metadata": {},
   "outputs": [],
   "source": [
    "model = nn.Conv2d(2, 2, kernel_size = 2)"
   ]
  },
  {
   "cell_type": "code",
   "execution_count": 34,
   "metadata": {},
   "outputs": [
    {
     "data": {
      "text/plain": [
       "torch.Size([2, 2, 2, 2])"
      ]
     },
     "execution_count": 34,
     "metadata": {},
     "output_type": "execute_result"
    }
   ],
   "source": [
    "model.weight.data.shape"
   ]
  },
  {
   "cell_type": "code",
   "execution_count": 35,
   "metadata": {},
   "outputs": [
    {
     "data": {
      "text/plain": [
       "torch.Size([2])"
      ]
     },
     "execution_count": 35,
     "metadata": {},
     "output_type": "execute_result"
    }
   ],
   "source": [
    "model.bias.data.shape"
   ]
  },
  {
   "cell_type": "code",
   "execution_count": 36,
   "metadata": {},
   "outputs": [],
   "source": [
    "image = torch.rand((2, 5, 5))"
   ]
  },
  {
   "cell_type": "code",
   "execution_count": 37,
   "metadata": {},
   "outputs": [],
   "source": [
    "output_image = model(image)"
   ]
  },
  {
   "cell_type": "code",
   "execution_count": 38,
   "metadata": {},
   "outputs": [
    {
     "data": {
      "text/plain": [
       "tensor([[[-0.1453,  0.4612,  0.0234,  0.0232],\n",
       "         [-0.1908,  0.2319,  0.0626, -0.0284],\n",
       "         [-0.1974, -0.1613, -0.2942, -0.1379],\n",
       "         [ 0.0031, -0.0490, -0.5020, -0.0698]],\n",
       "\n",
       "        [[-0.5237, -0.5496, -0.1825, -0.4863],\n",
       "         [-0.2416, -0.5409, -0.5105, -0.4897],\n",
       "         [-0.2353, -0.2778, -0.3254, -0.3260],\n",
       "         [-0.3282, -0.0291, -0.2341, -0.2748]]], grad_fn=<SqueezeBackward1>)"
      ]
     },
     "execution_count": 38,
     "metadata": {},
     "output_type": "execute_result"
    }
   ],
   "source": [
    "output_image"
   ]
  },
  {
   "cell_type": "code",
   "execution_count": 39,
   "metadata": {},
   "outputs": [
    {
     "ename": "TypeError",
     "evalue": "__init__() missing 3 required positional arguments: 'in_channels', 'out_channels', and 'kernel_size'",
     "output_type": "error",
     "traceback": [
      "\u001b[1;31m---------------------------------------------------------------------------\u001b[0m",
      "\u001b[1;31mTypeError\u001b[0m                                 Traceback (most recent call last)",
      "Cell \u001b[1;32mIn[39], line 1\u001b[0m\n\u001b[1;32m----> 1\u001b[0m \u001b[43mnn\u001b[49m\u001b[38;5;241;43m.\u001b[39;49m\u001b[43mConv2d\u001b[49m\u001b[43m(\u001b[49m\u001b[43m)\u001b[49m\n",
      "\u001b[1;31mTypeError\u001b[0m: __init__() missing 3 required positional arguments: 'in_channels', 'out_channels', and 'kernel_size'"
     ]
    }
   ],
   "source": [
    "nn.Conv2d()"
   ]
  },
  {
   "cell_type": "code",
   "execution_count": null,
   "metadata": {},
   "outputs": [],
   "source": []
  },
  {
   "cell_type": "code",
   "execution_count": 40,
   "metadata": {},
   "outputs": [
    {
     "data": {
      "text/plain": [
       "tensor([[[0.2578, 0.0319, 0.9249, 0.6395, 0.5108],\n",
       "         [0.2212, 0.0600, 0.2246, 0.4339, 0.3092],\n",
       "         [0.5357, 0.5208, 0.0510, 0.3128, 0.2446],\n",
       "         [0.8659, 0.4545, 0.5598, 0.7963, 0.9726],\n",
       "         [0.2139, 0.4400, 0.9269, 0.7150, 0.8191]],\n",
       "\n",
       "        [[0.3526, 0.9702, 0.7773, 0.8735, 0.1718],\n",
       "         [0.1513, 0.9412, 0.6340, 0.2965, 0.4838],\n",
       "         [0.5023, 0.4770, 0.1720, 0.6514, 0.9622],\n",
       "         [0.2713, 0.1626, 0.1709, 0.7293, 0.5855],\n",
       "         [0.9407, 0.8051, 0.0714, 0.8246, 0.6465]]])"
      ]
     },
     "execution_count": 40,
     "metadata": {},
     "output_type": "execute_result"
    }
   ],
   "source": [
    "image"
   ]
  },
  {
   "cell_type": "code",
   "execution_count": 41,
   "metadata": {},
   "outputs": [
    {
     "data": {
      "text/plain": [
       "tensor([[ 0.2925, -0.0992],\n",
       "        [ 0.3339, -0.0958]])"
      ]
     },
     "execution_count": 41,
     "metadata": {},
     "output_type": "execute_result"
    }
   ],
   "source": [
    "model.weight.data[0][1]"
   ]
  },
  {
   "cell_type": "code",
   "execution_count": 42,
   "metadata": {},
   "outputs": [
    {
     "data": {
      "text/plain": [
       "tensor(0.0080)"
      ]
     },
     "execution_count": 42,
     "metadata": {},
     "output_type": "execute_result"
    }
   ],
   "source": [
    "model.bias.data[0]"
   ]
  },
  {
   "cell_type": "code",
   "execution_count": 43,
   "metadata": {},
   "outputs": [
    {
     "data": {
      "text/plain": [
       "torch.Size([1, 32, 50, 50])"
      ]
     },
     "execution_count": 43,
     "metadata": {},
     "output_type": "execute_result"
    }
   ],
   "source": [
    "nn.Conv2d(16, 32, kernel_size = 7, padding = 3, stride = 2)(torch.rand(1, 16, 100, 100)).shape"
   ]
  },
  {
   "cell_type": "code",
   "execution_count": 45,
   "metadata": {},
   "outputs": [],
   "source": [
    "input_image = torch.rand(1, 16, 100, 100)"
   ]
  },
  {
   "cell_type": "code",
   "execution_count": 46,
   "metadata": {},
   "outputs": [],
   "source": [
    "pooling = nn.AvgPool2d(kernel_size = 5, padding = 2, stride = 5)"
   ]
  },
  {
   "cell_type": "code",
   "execution_count": 47,
   "metadata": {},
   "outputs": [],
   "source": [
    "output_image = pooling(input_image)"
   ]
  },
  {
   "cell_type": "code",
   "execution_count": 48,
   "metadata": {},
   "outputs": [
    {
     "data": {
      "text/plain": [
       "torch.Size([1, 16, 20, 20])"
      ]
     },
     "execution_count": 48,
     "metadata": {},
     "output_type": "execute_result"
    }
   ],
   "source": [
    "output_image.shape"
   ]
  },
  {
   "cell_type": "code",
   "execution_count": 49,
   "metadata": {},
   "outputs": [],
   "source": [
    "import torch\n",
    "import torch.nn as nn"
   ]
  },
  {
   "cell_type": "code",
   "execution_count": 50,
   "metadata": {},
   "outputs": [],
   "source": [
    "net = nn.Sequential(\n",
    "\tnn.Conv2d(1, 6, kernel_size=5, padding=2), nn.Sigmoid(),\n",
    "\tnn.AvgPool2d(kernel_size=2, stride=2),\n",
    "\tnn.Conv2d(6, 16, kernel_size=5), nn.Sigmoid(),\n",
    "\tnn.AvgPool2d(kernel_size=2, stride=2),\n",
    "\tnn.Flatten(),\n",
    "\tnn.Linear(16 * 6 * 6, 120), nn.Sigmoid(),\n",
    "\tnn.Linear(120, 84), nn.Sigmoid(),\n",
    "\tnn.Linear(84, 10))\n"
   ]
  },
  {
   "cell_type": "code",
   "execution_count": 51,
   "metadata": {},
   "outputs": [
    {
     "data": {
      "text/plain": [
       "torch.Size([1, 10])"
      ]
     },
     "execution_count": 51,
     "metadata": {},
     "output_type": "execute_result"
    }
   ],
   "source": [
    "net(torch.rand(1, 1, 32, 32)).shape"
   ]
  },
  {
   "cell_type": "code",
   "execution_count": 52,
   "metadata": {},
   "outputs": [],
   "source": [
    "from torchvision.models import vgg16, VGG16_Weights"
   ]
  },
  {
   "cell_type": "code",
   "execution_count": 53,
   "metadata": {},
   "outputs": [],
   "source": [
    "vgg_model = vgg16(weights = VGG16_Weights.DEFAULT)"
   ]
  },
  {
   "cell_type": "code",
   "execution_count": 54,
   "metadata": {},
   "outputs": [
    {
     "data": {
      "text/plain": [
       "torch.Size([1, 1000])"
      ]
     },
     "execution_count": 54,
     "metadata": {},
     "output_type": "execute_result"
    }
   ],
   "source": [
    "vgg_model(torch.rand(1, 3, 32, 32)).shape"
   ]
  },
  {
   "cell_type": "code",
   "execution_count": 55,
   "metadata": {},
   "outputs": [],
   "source": [
    "from PIL import Image"
   ]
  },
  {
   "cell_type": "code",
   "execution_count": 56,
   "metadata": {},
   "outputs": [],
   "source": [
    "from torchvision.transforms import ToTensor, Resize"
   ]
  },
  {
   "cell_type": "code",
   "execution_count": 57,
   "metadata": {},
   "outputs": [],
   "source": [
    "cat_image = Resize((224, 224))(ToTensor()(Image.open(\"goldfish.png\")))"
   ]
  },
  {
   "cell_type": "code",
   "execution_count": 58,
   "metadata": {},
   "outputs": [
    {
     "data": {
      "text/plain": [
       "torch.Size([3, 224, 224])"
      ]
     },
     "execution_count": 58,
     "metadata": {},
     "output_type": "execute_result"
    }
   ],
   "source": [
    "cat_image.shape"
   ]
  },
  {
   "cell_type": "code",
   "execution_count": 59,
   "metadata": {},
   "outputs": [
    {
     "data": {
      "text/plain": [
       "torch.Size([1, 3, 224, 224])"
      ]
     },
     "execution_count": 59,
     "metadata": {},
     "output_type": "execute_result"
    }
   ],
   "source": [
    "cat_image.unsqueeze(0).shape"
   ]
  },
  {
   "cell_type": "code",
   "execution_count": 60,
   "metadata": {},
   "outputs": [
    {
     "data": {
      "text/plain": [
       "tensor(1)"
      ]
     },
     "execution_count": 60,
     "metadata": {},
     "output_type": "execute_result"
    }
   ],
   "source": [
    "torch.argmax(vgg_model(cat_image.unsqueeze(0)))"
   ]
  },
  {
   "cell_type": "code",
   "execution_count": 61,
   "metadata": {},
   "outputs": [
    {
     "data": {
      "text/plain": [
       "VGG(\n",
       "  (features): Sequential(\n",
       "    (0): Conv2d(3, 64, kernel_size=(3, 3), stride=(1, 1), padding=(1, 1))\n",
       "    (1): ReLU(inplace=True)\n",
       "    (2): Conv2d(64, 64, kernel_size=(3, 3), stride=(1, 1), padding=(1, 1))\n",
       "    (3): ReLU(inplace=True)\n",
       "    (4): MaxPool2d(kernel_size=2, stride=2, padding=0, dilation=1, ceil_mode=False)\n",
       "    (5): Conv2d(64, 128, kernel_size=(3, 3), stride=(1, 1), padding=(1, 1))\n",
       "    (6): ReLU(inplace=True)\n",
       "    (7): Conv2d(128, 128, kernel_size=(3, 3), stride=(1, 1), padding=(1, 1))\n",
       "    (8): ReLU(inplace=True)\n",
       "    (9): MaxPool2d(kernel_size=2, stride=2, padding=0, dilation=1, ceil_mode=False)\n",
       "    (10): Conv2d(128, 256, kernel_size=(3, 3), stride=(1, 1), padding=(1, 1))\n",
       "    (11): ReLU(inplace=True)\n",
       "    (12): Conv2d(256, 256, kernel_size=(3, 3), stride=(1, 1), padding=(1, 1))\n",
       "    (13): ReLU(inplace=True)\n",
       "    (14): Conv2d(256, 256, kernel_size=(3, 3), stride=(1, 1), padding=(1, 1))\n",
       "    (15): ReLU(inplace=True)\n",
       "    (16): MaxPool2d(kernel_size=2, stride=2, padding=0, dilation=1, ceil_mode=False)\n",
       "    (17): Conv2d(256, 512, kernel_size=(3, 3), stride=(1, 1), padding=(1, 1))\n",
       "    (18): ReLU(inplace=True)\n",
       "    (19): Conv2d(512, 512, kernel_size=(3, 3), stride=(1, 1), padding=(1, 1))\n",
       "    (20): ReLU(inplace=True)\n",
       "    (21): Conv2d(512, 512, kernel_size=(3, 3), stride=(1, 1), padding=(1, 1))\n",
       "    (22): ReLU(inplace=True)\n",
       "    (23): MaxPool2d(kernel_size=2, stride=2, padding=0, dilation=1, ceil_mode=False)\n",
       "    (24): Conv2d(512, 512, kernel_size=(3, 3), stride=(1, 1), padding=(1, 1))\n",
       "    (25): ReLU(inplace=True)\n",
       "    (26): Conv2d(512, 512, kernel_size=(3, 3), stride=(1, 1), padding=(1, 1))\n",
       "    (27): ReLU(inplace=True)\n",
       "    (28): Conv2d(512, 512, kernel_size=(3, 3), stride=(1, 1), padding=(1, 1))\n",
       "    (29): ReLU(inplace=True)\n",
       "    (30): MaxPool2d(kernel_size=2, stride=2, padding=0, dilation=1, ceil_mode=False)\n",
       "  )\n",
       "  (avgpool): AdaptiveAvgPool2d(output_size=(7, 7))\n",
       "  (classifier): Sequential(\n",
       "    (0): Linear(in_features=25088, out_features=4096, bias=True)\n",
       "    (1): ReLU(inplace=True)\n",
       "    (2): Dropout(p=0.5, inplace=False)\n",
       "    (3): Linear(in_features=4096, out_features=4096, bias=True)\n",
       "    (4): ReLU(inplace=True)\n",
       "    (5): Dropout(p=0.5, inplace=False)\n",
       "    (6): Linear(in_features=4096, out_features=1000, bias=True)\n",
       "  )\n",
       ")"
      ]
     },
     "execution_count": 61,
     "metadata": {},
     "output_type": "execute_result"
    }
   ],
   "source": [
    "vgg_model"
   ]
  },
  {
   "cell_type": "code",
   "execution_count": 62,
   "metadata": {},
   "outputs": [],
   "source": [
    "first_layer_output = vgg_model.features[0:19](cat_image.unsqueeze(0))"
   ]
  },
  {
   "cell_type": "code",
   "execution_count": 63,
   "metadata": {},
   "outputs": [
    {
     "data": {
      "text/plain": [
       "torch.Size([1, 512, 28, 28])"
      ]
     },
     "execution_count": 63,
     "metadata": {},
     "output_type": "execute_result"
    }
   ],
   "source": [
    "first_layer_output.shape"
   ]
  },
  {
   "cell_type": "code",
   "execution_count": 64,
   "metadata": {},
   "outputs": [],
   "source": [
    "import matplotlib.pyplot as plt"
   ]
  },
  {
   "cell_type": "code",
   "execution_count": 65,
   "metadata": {},
   "outputs": [
    {
     "data": {
      "text/plain": [
       "<matplotlib.image.AxesImage at 0x18ce4ccf640>"
      ]
     },
     "execution_count": 65,
     "metadata": {},
     "output_type": "execute_result"
    },
    {
     "data": {
      "image/png": "[encoded data removed]",
      "text/plain": [
       "<Figure size 640x480 with 1 Axes>"
      ]
     },
     "metadata": {},
     "output_type": "display_data"
    }
   ],
   "source": [
    "plt.imshow(first_layer_output[0][30].detach(), cmap = \"gray\")"
   ]
  },
  {
   "cell_type": "code",
   "execution_count": 66,
   "metadata": {},
   "outputs": [],
   "source": [
    "input_image = -torch.rand(1, 4, 4)"
   ]
  },
  {
   "cell_type": "code",
   "execution_count": 67,
   "metadata": {},
   "outputs": [],
   "source": [
    "max_pooling = nn.MaxPool2d(kernel_size = 3, stride = 1, padding = 1)"
   ]
  },
  {
   "cell_type": "code",
   "execution_count": 68,
   "metadata": {},
   "outputs": [
    {
     "data": {
      "text/plain": [
       "tensor([[[-0.3727, -0.3727, -0.3029, -0.3029],\n",
       "         [-0.3727, -0.2330, -0.2330, -0.2330],\n",
       "         [-0.4037, -0.1993, -0.1993, -0.1993],\n",
       "         [-0.6777, -0.1993, -0.1993, -0.1993]]])"
      ]
     },
     "execution_count": 68,
     "metadata": {},
     "output_type": "execute_result"
    }
   ],
   "source": [
    "max_pooling(input_image)"
   ]
  },
  {
   "cell_type": "code",
   "execution_count": 69,
   "metadata": {},
   "outputs": [
    {
     "data": {
      "text/plain": [
       "tensor([[[-0.8371, -0.3727, -0.5620, -0.3029],\n",
       "         [-0.4037, -0.6648, -0.6045, -0.4482],\n",
       "         [-0.6777, -0.7456, -0.2330, -0.5367],\n",
       "         [-0.7220, -0.8449, -0.1993, -0.7963]]])"
      ]
     },
     "execution_count": 69,
     "metadata": {},
     "output_type": "execute_result"
    }
   ],
   "source": [
    "input_image"
   ]
  },
  {
   "cell_type": "code",
   "execution_count": 70,
   "metadata": {},
   "outputs": [],
   "source": [
    "avg_pooling = nn.AvgPool2d(kernel_size = 3, stride = 3, padding = 1)"
   ]
  },
  {
   "cell_type": "code",
   "execution_count": 71,
   "metadata": {},
   "outputs": [],
   "source": [
    "norm = nn.BatchNorm2d(2)"
   ]
  },
  {
   "cell_type": "code",
   "execution_count": 72,
   "metadata": {},
   "outputs": [],
   "source": [
    "inp = torch.randn((2, 2, 4, 4))"
   ]
  },
  {
   "cell_type": "code",
   "execution_count": 84,
   "metadata": {},
   "outputs": [],
   "source": [
    "out = norm(inp)"
   ]
  },
  {
   "cell_type": "code",
   "execution_count": 74,
   "metadata": {},
   "outputs": [
    {
     "data": {
      "text/plain": [
       "torch.Size([2, 2, 4, 4])"
      ]
     },
     "execution_count": 74,
     "metadata": {},
     "output_type": "execute_result"
    }
   ],
   "source": [
    "out.shape"
   ]
  },
  {
   "cell_type": "code",
   "execution_count": 81,
   "metadata": {},
   "outputs": [
    {
     "data": {
      "text/plain": [
       "tensor([[[[-0.8164, -0.1529,  0.1035,  0.0067],\n",
       "          [ 0.2070, -0.8794, -0.2463, -1.5551],\n",
       "          [ 0.3139, -0.5543,  0.6656,  0.1463],\n",
       "          [-2.2970, -0.7203,  0.4245,  0.3481]],\n",
       "\n",
       "         [[-0.4502,  1.7884,  1.4774,  1.1109],\n",
       "          [-0.3638,  0.8735,  0.8612, -0.7630],\n",
       "          [-0.8680, -0.3780,  0.2300,  0.4558],\n",
       "          [-3.0466, -0.2318, -0.4286, -0.3178]]],\n",
       "\n",
       "\n",
       "        [[[-0.6331,  1.0594, -1.1584, -1.4400],\n",
       "          [ 0.5283, -0.9485, -0.3940, -1.1033],\n",
       "          [-0.3959,  0.1195,  0.5322, -1.4257],\n",
       "          [-0.4758, -0.3443,  2.2672, -1.4900]],\n",
       "\n",
       "         [[ 0.8749, -0.5772, -1.2932,  0.3726],\n",
       "          [-0.9305, -0.9825, -1.1044,  0.0383],\n",
       "          [ 1.9426,  2.2826,  0.9439,  1.1410],\n",
       "          [-0.2017,  0.6626,  0.5213, -0.6242]]]])"
      ]
     },
     "execution_count": 81,
     "metadata": {},
     "output_type": "execute_result"
    }
   ],
   "source": [
    "inp"
   ]
  },
  {
   "cell_type": "code",
   "execution_count": null,
   "metadata": {},
   "outputs": [],
   "source": [
    "inp[:, 0, :, :]"
   ]
  },
  {
   "cell_type": "code",
   "execution_count": 88,
   "metadata": {},
   "outputs": [
    {
     "data": {
      "text/plain": [
       "tensor([[[-0.5468,  0.1872,  0.4710,  0.3638],\n",
       "         [ 0.5855, -0.6165,  0.0839, -1.3642],\n",
       "         [ 0.7037, -0.2569,  1.0928,  0.5183],\n",
       "         [-2.1850, -0.4405,  0.8261,  0.7416]],\n",
       "\n",
       "        [[-0.3440,  1.5286, -0.9252, -1.2368],\n",
       "         [ 0.9409, -0.6930, -0.0795, -0.8643],\n",
       "         [-0.0816,  0.4886,  0.9453, -1.2211],\n",
       "         [-0.1700, -0.0246,  2.8649, -1.2922]]])"
      ]
     },
     "execution_count": 88,
     "metadata": {},
     "output_type": "execute_result"
    }
   ],
   "source": [
    "(inp[:, 0, :, :] - torch.mean(inp[:, 0, :, :]))/torch.std(inp[:, 0, :, :])"
   ]
  },
  {
   "cell_type": "code",
   "execution_count": 89,
   "metadata": {},
   "outputs": [
    {
     "data": {
      "text/plain": [
       "tensor([[[-0.5556,  0.1902,  0.4785,  0.3696],\n",
       "         [ 0.5948, -0.6264,  0.0853, -1.3860],\n",
       "         [ 0.7150, -0.2610,  1.1103,  0.5266],\n",
       "         [-2.2199, -0.4476,  0.8393,  0.7535]],\n",
       "\n",
       "        [[-0.3495,  1.5530, -0.9400, -1.2566],\n",
       "         [ 0.9560, -0.7041, -0.0808, -0.8781],\n",
       "         [-0.0829,  0.4964,  0.9604, -1.2406],\n",
       "         [-0.1727, -0.0250,  2.9107, -1.3128]]], grad_fn=<SliceBackward0>)"
      ]
     },
     "execution_count": 89,
     "metadata": {},
     "output_type": "execute_result"
    }
   ],
   "source": [
    "out[:, 0, :, :]"
   ]
  },
  {
   "cell_type": "code",
   "execution_count": 93,
   "metadata": {},
   "outputs": [
    {
     "data": {
      "text/plain": [
       "tensor([[[-0.4930,  1.5340,  1.2524,  0.9206],\n",
       "         [-0.4148,  0.7056,  0.6945, -0.7762],\n",
       "         [-0.8713, -0.4276,  0.1230,  0.3274],\n",
       "         [-2.8440, -0.2952, -0.4734, -0.3731]],\n",
       "\n",
       "        [[ 0.7069, -0.6080, -1.2562,  0.2520],\n",
       "         [-0.9278, -0.9749, -1.0853, -0.0507],\n",
       "         [ 1.6737,  1.9815,  0.7694,  0.9478],\n",
       "         [-0.2680,  0.5146,  0.3867, -0.6505]]])"
      ]
     },
     "execution_count": 93,
     "metadata": {},
     "output_type": "execute_result"
    }
   ],
   "source": [
    "(inp[:, 1, :, :] - torch.mean(inp[:, 1, :, :]))/torch.std(inp[:, 1, :, :])"
   ]
  },
  {
   "cell_type": "code",
   "execution_count": 92,
   "metadata": {},
   "outputs": [
    {
     "data": {
      "text/plain": [
       "tensor([[[-0.5009,  1.5586,  1.2725,  0.9353],\n",
       "         [-0.4214,  0.7169,  0.7056, -0.7886],\n",
       "         [-0.8853, -0.4344,  0.1249,  0.3326],\n",
       "         [-2.8895, -0.2999, -0.4810, -0.3790]],\n",
       "\n",
       "        [[ 0.7182, -0.6177, -1.2763,  0.2561],\n",
       "         [-0.9427, -0.9905, -1.1027, -0.0515],\n",
       "         [ 1.7004,  2.0132,  0.7817,  0.9630],\n",
       "         [-0.2723,  0.5229,  0.3929, -0.6609]]], grad_fn=<SliceBackward0>)"
      ]
     },
     "execution_count": 92,
     "metadata": {},
     "output_type": "execute_result"
    }
   ],
   "source": [
    "out[:, 1, :, :]"
   ]
  },
  {
   "cell_type": "code",
   "execution_count": 94,
   "metadata": {},
   "outputs": [
    {
     "data": {
      "text/plain": [
       "Parameter containing:\n",
       "tensor([1., 1.], requires_grad=True)"
      ]
     },
     "execution_count": 94,
     "metadata": {},
     "output_type": "execute_result"
    }
   ],
   "source": [
    "norm.weight"
   ]
  },
  {
   "cell_type": "code",
   "execution_count": 95,
   "metadata": {},
   "outputs": [
    {
     "data": {
      "text/plain": [
       "Parameter containing:\n",
       "tensor([0., 0.], requires_grad=True)"
      ]
     },
     "execution_count": 95,
     "metadata": {},
     "output_type": "execute_result"
    }
   ],
   "source": [
    "norm.bias"
   ]
  },
  {
   "cell_type": "code",
   "execution_count": 128,
   "metadata": {},
   "outputs": [],
   "source": [
    "inp = torch.arange(2*2*4*4).reshape(2, 2, 4, 4) ** 2"
   ]
  },
  {
   "cell_type": "code",
   "execution_count": 132,
   "metadata": {},
   "outputs": [
    {
     "data": {
      "text/plain": [
       "tensor([[[[-1.0413, -1.0401, -1.0363, -1.0300],\n",
       "          [-1.0212, -1.0099, -0.9961, -0.9798],\n",
       "          [-0.9610, -0.9396, -0.9158, -0.8894],\n",
       "          [-0.8605, -0.8292, -0.7953, -0.7589]],\n",
       "\n",
       "         [[-1.1947, -1.1697, -1.1433, -1.1154],\n",
       "          [-1.0859, -1.0549, -1.0224, -0.9884],\n",
       "          [-0.9529, -0.9159, -0.8774, -0.8374],\n",
       "          [-0.7958, -0.7528, -0.7082, -0.6621]]],\n",
       "\n",
       "\n",
       "        [[[ 0.2442,  0.3258,  0.4099,  0.4965],\n",
       "          [ 0.5856,  0.6773,  0.7714,  0.8681],\n",
       "          [ 0.9672,  1.0689,  1.1731,  1.2798],\n",
       "          [ 1.3890,  1.5008,  1.6150,  1.7317]],\n",
       "\n",
       "         [[ 0.3524,  0.4257,  0.5005,  0.5768],\n",
       "          [ 0.6546,  0.7339,  0.8147,  0.8970],\n",
       "          [ 0.9809,  1.0663,  1.1531,  1.2415],\n",
       "          [ 1.3314,  1.4228,  1.5157,  1.6101]]]],\n",
       "       grad_fn=<NativeBatchNormBackward0>)"
      ]
     },
     "execution_count": 132,
     "metadata": {},
     "output_type": "execute_result"
    }
   ],
   "source": [
    "norm(inp.float())"
   ]
  },
  {
   "cell_type": "markdown",
   "metadata": {},
   "source": [
    "Rezolvare problema"
   ]
  },
  {
   "cell_type": "code",
   "execution_count": 147,
   "metadata": {},
   "outputs": [],
   "source": [
    "from torchvision.datasets import SVHN\n",
    "from torchvision.transforms import ToTensor\n",
    "from torch.utils.data import random_split\n",
    "import torch.nn as nn"
   ]
  },
  {
   "cell_type": "code",
   "execution_count": 143,
   "metadata": {},
   "outputs": [
    {
     "name": "stdout",
     "output_type": "stream",
     "text": [
      "Using downloaded and verified file: data\\train_32x32.mat\n"
     ]
    }
   ],
   "source": [
    "SVHN_ds = SVHN(root = \"data\", split = \"train\", transform = ToTensor(), download = True)"
   ]
  },
  {
   "cell_type": "code",
   "execution_count": 144,
   "metadata": {},
   "outputs": [],
   "source": [
    "train_SVHN, valid_SVHN = random_split(SVHN_ds, lengths = [43257, 30000])"
   ]
  },
  {
   "cell_type": "code",
   "execution_count": 150,
   "metadata": {},
   "outputs": [
    {
     "data": {
      "text/plain": [
       "torch.Size([3, 32, 32])"
      ]
     },
     "execution_count": 150,
     "metadata": {},
     "output_type": "execute_result"
    }
   ],
   "source": [
    "train_SVHN[0][0].shape"
   ]
  },
  {
   "cell_type": "code",
   "execution_count": 151,
   "metadata": {},
   "outputs": [],
   "source": [
    "import matplotlib.pyplot as plt"
   ]
  },
  {
   "cell_type": "code",
   "execution_count": 158,
   "metadata": {},
   "outputs": [
    {
     "data": {
      "text/plain": [
       "<matplotlib.image.AxesImage at 0x18d0c80cca0>"
      ]
     },
     "execution_count": 158,
     "metadata": {},
     "output_type": "execute_result"
    },
    {
     "data": {
      "image/png": "[encoded data removed]",
      "text/plain": [
       "<Figure size 640x480 with 1 Axes>"
      ]
     },
     "metadata": {},
     "output_type": "display_data"
    }
   ],
   "source": [
    "plt.imshow(train_SVHN[0][0].permute(1, 2, 0))"
   ]
  },
  {
   "cell_type": "code",
   "execution_count": 162,
   "metadata": {},
   "outputs": [],
   "source": [
    "class ConvBlock(nn.Module):\n",
    "    def __init__(self):\n",
    "        super().__init__()\n",
    "        \n",
    "        # right side\n",
    "        self.conv1 = nn.Conv2d(3, 32, kernel_size = 3, padding = 1)\n",
    "        \n",
    "        self.conv2 = nn.Conv2d(32, 64, kernel_size = 3, padding = 1)\n",
    "        self.bn = nn.BatchNorm2d(64)\n",
    "        self.relu = nn.ReLU()\n",
    "\n",
    "        # left side\n",
    "        self.conv3 = nn.Conv2d(3, 64, kernel_size = 3, padding = 1)\n",
    "        self.relu2 = nn.ReLU()\n",
    "\n",
    "    def forward(self, block_input):\n",
    "        # block_input is a tensor of shape batch_size x channels x height x width\n",
    "        # in our case, batch_size = 256, channels = 3, height = 32, width = 32\n",
    "        \n",
    "        conv1_output = self.conv1(block_input) # 256 x 32 x 32 x 32\n",
    "        conv2_output = self.conv2(conv1_output) # 256 x 64 x 32 x 32\n",
    "        bn_output = self.bn(conv2_output) # 256 x 64 x 32 x 32\n",
    "        relu_output = self.relu(bn_output) # 256 x 64 x 32 x 32\n",
    "\n",
    "        conv3_output = self.conv3(block_input) # 256 x 64 x 32 x 32\n",
    "        relu2_output = self.relu2(conv3_output) # 256 x 64 x 32 x 32\n",
    "\n",
    "        output = relu_output + relu2_output\n",
    "\n",
    "        return output"
   ]
  },
  {
   "cell_type": "code",
   "execution_count": 163,
   "metadata": {},
   "outputs": [],
   "source": [
    "network = nn.Sequential(ConvBlock(), nn.Flatten(), nn.Linear(64*32*32, 10))"
   ]
  },
  {
   "cell_type": "code",
   "execution_count": 166,
   "metadata": {},
   "outputs": [],
   "source": [
    "loss_function = nn.CrossEntropyLoss()"
   ]
  },
  {
   "cell_type": "code",
   "execution_count": 167,
   "metadata": {},
   "outputs": [],
   "source": [
    "optimizer = torch.optim.SGD(network.parameters(), lr = 0.05)"
   ]
  },
  {
   "cell_type": "code",
   "execution_count": 168,
   "metadata": {},
   "outputs": [],
   "source": [
    "train_loader = torch.utils.data.DataLoader(train_SVHN, batch_size = 256, shuffle = True)"
   ]
  },
  {
   "cell_type": "code",
   "execution_count": 173,
   "metadata": {},
   "outputs": [
    {
     "data": {
      "text/plain": [
       "Sequential(\n",
       "  (0): ConvBlock(\n",
       "    (conv1): Conv2d(3, 32, kernel_size=(3, 3), stride=(1, 1), padding=(1, 1))\n",
       "    (conv2): Conv2d(32, 64, kernel_size=(3, 3), stride=(1, 1), padding=(1, 1))\n",
       "    (bn): BatchNorm2d(64, eps=1e-05, momentum=0.1, affine=True, track_running_stats=True)\n",
       "    (relu): ReLU()\n",
       "    (conv3): Conv2d(3, 64, kernel_size=(3, 3), stride=(1, 1), padding=(1, 1))\n",
       "    (relu2): ReLU()\n",
       "  )\n",
       "  (1): Flatten(start_dim=1, end_dim=-1)\n",
       "  (2): Linear(in_features=65536, out_features=10, bias=True)\n",
       ")"
      ]
     },
     "execution_count": 173,
     "metadata": {},
     "output_type": "execute_result"
    }
   ],
   "source": [
    "network.to(\"cuda\")"
   ]
  },
  {
   "cell_type": "code",
   "execution_count": 174,
   "metadata": {},
   "outputs": [
    {
     "name": "stdout",
     "output_type": "stream",
     "text": [
      "Epoch 0: 2.160191297531128\n",
      "Epoch 1: 1.51427161693573\n",
      "Epoch 2: 0.937686562538147\n",
      "Epoch 3: 0.7659605741500854\n",
      "Epoch 4: 0.6840202212333679\n"
     ]
    }
   ],
   "source": [
    "for epoch in range(5):\n",
    "    loss_total = 0\n",
    "    for images_batch, correct_classes_batch in train_loader:\n",
    "        images_batch = images_batch.to(\"cuda\")\n",
    "        correct_classes_batch = correct_classes_batch.to(\"cuda\")\n",
    "        predicted_classes_batch = network(images_batch)\n",
    "        loss = loss_function(predicted_classes_batch, correct_classes_batch)\n",
    "        \n",
    "        optimizer.zero_grad()\n",
    "        loss.backward()\n",
    "\n",
    "        optimizer.step()\n",
    "\n",
    "        loss_total += loss\n",
    "\n",
    "    loss_total = loss_total / (len(train_SVHN) / 256)\n",
    "\n",
    "    print(f\"Epoch {epoch}: {loss_total}\")"
   ]
  },
  {
   "cell_type": "code",
   "execution_count": 188,
   "metadata": {},
   "outputs": [],
   "source": [
    "valid_loader = torch.utils.data.DataLoader(valid_SVHN, batch_size = 1)"
   ]
  },
  {
   "cell_type": "code",
   "execution_count": 191,
   "metadata": {},
   "outputs": [],
   "source": [
    "from tqdm import tqdm, trange"
   ]
  },
  {
   "cell_type": "code",
   "execution_count": 192,
   "metadata": {},
   "outputs": [
    {
     "name": "stderr",
     "output_type": "stream",
     "text": [
      "100%|██████████| 30000/30000 [00:41<00:00, 726.39it/s]\n"
     ]
    }
   ],
   "source": [
    "correct = 0\n",
    "total = 0\n",
    "for image, class_ in tqdm(valid_loader):\n",
    "    image = image.to(\"cuda\")\n",
    "    prediction = network(image)\n",
    "\n",
    "    predicted_class = torch.argmax(prediction)\n",
    "    if predicted_class.to(\"cpu\") == class_:\n",
    "        correct += 1\n",
    "\n",
    "    total += 1"
   ]
  },
  {
   "cell_type": "code",
   "execution_count": 193,
   "metadata": {},
   "outputs": [
    {
     "data": {
      "text/plain": [
       "0.78"
      ]
     },
     "execution_count": 193,
     "metadata": {},
     "output_type": "execute_result"
    }
   ],
   "source": [
    "correct / total"
   ]
  },
  {
   "cell_type": "code",
   "execution_count": null,
   "metadata": {},
   "outputs": [],
   "source": []
  }
 ],
 "metadata": {
  "kernelspec": {
   "display_name": "lv",
   "language": "python",
   "name": "python3"
  },
  "language_info": {
   "codemirror_mode": {
    "name": "ipython",
    "version": 3
   },
   "file_extension": ".py",
   "mimetype": "text/x-python",
   "name": "python",
   "nbconvert_exporter": "python",
   "pygments_lexer": "ipython3",
   "version": "3.9.19"
  }
 },
 "nbformat": 4,
 "nbformat_minor": 2
}
