{
 "cells": [
  {
   "cell_type": "code",
   "execution_count": 44,
   "metadata": {},
   "outputs": [],
   "source": [
    "import torch\n",
    "import torch.nn.functional as F\n",
    "import os\n",
    "import zipfile\n",
    "import collections"
   ]
  },
  {
   "cell_type": "code",
   "execution_count": 45,
   "metadata": {},
   "outputs": [],
   "source": [
    "import torch.nn as nn"
   ]
  },
  {
   "cell_type": "code",
   "execution_count": 46,
   "metadata": {},
   "outputs": [],
   "source": [
    "class MLP(nn.Module):\n",
    "    def __init__(self, embedding_size, hidden_size, output_size):\n",
    "        super().__init__()\n",
    "        self.linear1 = nn.Linear(embedding_size, hidden_size)\n",
    "        self.relu = nn.ReLU()\n",
    "        self.linear2 = nn.Linear(hidden_size, output_size)\n",
    "\n",
    "    def forward(self, x):\n",
    "        x = self.linear1(x)\n",
    "        x = self.relu(x)\n",
    "        x = self.linear2(x)\n",
    "        return x"
   ]
  },
  {
   "cell_type": "code",
   "execution_count": 15,
   "metadata": {},
   "outputs": [],
   "source": [
    "class SelfAttention(nn.Module):\n",
    "    def __init__(self, embedding_size):\n",
    "        super().__init__()\n",
    "        self.attention = nn.MultiheadAttention(embedding_size, 1, batch_first = True)\n",
    "        self.is_causal = True\n",
    "    \n",
    "    def forward(self, embeddings):\n",
    "        batch, word_count, embedding_size = embeddings.shape\n",
    "        attn_mask = nn.Transformer.generate_square_subsequent_mask(word_count, device = embeddings.device)\n",
    "        output = self.attention(\n",
    "            embeddings,\n",
    "            embeddings,\n",
    "            embeddings,\n",
    "            is_causal = True,\n",
    "            attn_mask = attn_mask\n",
    "        )\n",
    "        return output[0] + embeddings"
   ]
  },
  {
   "cell_type": "code",
   "execution_count": 47,
   "metadata": {},
   "outputs": [],
   "source": [
    "class CrossAttention(nn.Module):\n",
    "    def __init__(self, embedding_size):\n",
    "        super().__init__()\n",
    "        self.attention = nn.MultiheadAttention(embedding_size, 1, batch_first = True)\n",
    "\n",
    "    def forward(self, french_embeddings, english_embeddings):\n",
    "        # shape batch_size x number_of_english_embeddings x number_of_french_embeddings\n",
    "        output = self.attention(\n",
    "            english_embeddings, \n",
    "            french_embeddings, \n",
    "            french_embeddings, \n",
    "            )\n",
    "        return output[0] + english_embeddings"
   ]
  },
  {
   "cell_type": "code",
   "execution_count": 48,
   "metadata": {},
   "outputs": [],
   "source": [
    "class Vocab:\n",
    "    \"\"\"Vocabulary for text.\"\"\"\n",
    "    def __init__(self, tokens=None, min_freq=0, reserved_tokens=None):\n",
    "        if tokens is None:\n",
    "            tokens = []\n",
    "        if reserved_tokens is None:\n",
    "            reserved_tokens = []\n",
    "        # Sort according to frequencies\n",
    "        counter = count_corpus(tokens)\n",
    "        self._token_freqs = sorted(counter.items(), key=lambda x: x[1],\n",
    "                                   reverse=True)\n",
    "        # The index for the unknown token is 0\n",
    "        self.idx_to_token = ['<unk>'] + reserved_tokens\n",
    "        self.token_to_idx = {token: idx\n",
    "                             for idx, token in enumerate(self.idx_to_token)}\n",
    "        for token, freq in self._token_freqs:\n",
    "            if freq < min_freq:\n",
    "                break\n",
    "            if token not in self.token_to_idx:\n",
    "                self.idx_to_token.append(token)\n",
    "                self.token_to_idx[token] = len(self.idx_to_token) - 1\n",
    "\n",
    "    def __len__(self):\n",
    "        return len(self.idx_to_token)\n",
    "\n",
    "    def __getitem__(self, tokens):\n",
    "        if not isinstance(tokens, (list, tuple)):\n",
    "            return self.token_to_idx.get(tokens, self.unk)\n",
    "        return [self.__getitem__(token) for token in tokens]\n",
    "\n",
    "    def to_tokens(self, indices):\n",
    "        if not isinstance(indices, (list, tuple)):\n",
    "            return self.idx_to_token[indices]\n",
    "        return [self.idx_to_token[index] for index in indices]\n",
    "\n",
    "    @property\n",
    "    def unk(self):  # Index for the unknown token\n",
    "        return 0\n",
    "\n",
    "    @property\n",
    "    def token_freqs(self):  # Token frequencies\n",
    "        return self._token_freqs\n",
    "\n",
    "def count_corpus(tokens):\n",
    "    \"\"\"Count token frequencies.\"\"\"\n",
    "    # Here `tokens` is a 1D list or 2D list\n",
    "    if len(tokens) == 0 or isinstance(tokens[0], list):\n",
    "        # Flatten a list of token lists into a list of tokens\n",
    "        tokens = [token for line in tokens for token in line]\n",
    "    return collections.Counter(tokens)\n",
    "\n",
    "def download(url, cache_dir=os.path.join('..', 'data')):\n",
    "    \"\"\"Download a file, return the local filename.\"\"\"\n",
    "    os.makedirs(cache_dir, exist_ok=True)\n",
    "    fname = os.path.join(cache_dir, url.split('/')[-1])\n",
    "    if os.path.exists(fname):\n",
    "        with open(fname, 'rb') as f:\n",
    "            while True:\n",
    "                data = f.read(1048576)\n",
    "                if not data:\n",
    "                    break\n",
    "        return fname\n",
    "    print(f'Downloading {fname} from {url}...')\n",
    "    r = requests.get(url, stream=True, verify=True)\n",
    "    with open(fname, 'wb') as f:\n",
    "        f.write(r.content)\n",
    "    return fname\n",
    "\n",
    "def download_extract(url, folder=None):\n",
    "    \"\"\"Download and extract a zip file.\"\"\"\n",
    "    fname = download(url)\n",
    "    base_dir = os.path.dirname(fname)\n",
    "    data_dir, ext = os.path.splitext(fname)\n",
    "    if ext == '.zip':\n",
    "        fp = zipfile.ZipFile(fname, 'r')\n",
    "    else:\n",
    "        assert False, 'Only zip files can be extracted.'\n",
    "    fp.extractall(base_dir)\n",
    "    return os.path.join(base_dir, folder) if folder else data_dir\n",
    "\n",
    "def read_data_nmt():\n",
    "    \"\"\"Load the English-French dataset.\"\"\"\n",
    "    data_dir = download_extract('http://d2l-data.s3-accelerate.amazonaws.com/fra-eng.zip')\n",
    "    with open(os.path.join(data_dir, 'fra.txt'), 'r') as f:\n",
    "        return f.read()\n",
    "\n",
    "def preprocess_nmt(text):\n",
    "    \"\"\"Preprocess the English-French dataset.\"\"\"\n",
    "    def no_space(char, prev_char):\n",
    "        return char in set(',.!?') and prev_char != ' '\n",
    "\n",
    "    # Replace non-breaking space with space, and convert uppercase letters to\n",
    "    # lowercase ones\n",
    "    text = text.replace('\\u202f', ' ').replace('\\xa0', ' ').lower()\n",
    "    # Insert space between words and punctuation marks\n",
    "    out = [' ' + char if i > 0 and no_space(char, text[i - 1]) else char\n",
    "           for i, char in enumerate(text)]\n",
    "    return ''.join(out)\n",
    "\n",
    "def tokenize_nmt(text, num_examples=None):\n",
    "    \"\"\"Tokenize the English-French dataset.\"\"\"\n",
    "    source, target = [], []\n",
    "    for i, line in enumerate(text.split('\\n')):\n",
    "        if num_examples and i > num_examples:\n",
    "            break\n",
    "        parts = line.split('\\t')\n",
    "        if len(parts) == 2:\n",
    "            source.append(parts[0].split(' '))\n",
    "            target.append(parts[1].split(' '))\n",
    "    return source, target\n",
    "\n",
    "def truncate_pad(line, num_steps, padding_token):\n",
    "    \"\"\"Truncate or pad sequences.\"\"\"\n",
    "    if len(line) > num_steps:\n",
    "        return line[:num_steps]  # Truncate\n",
    "    return line + [padding_token] * (num_steps - len(line))  # Pad\n",
    "\n",
    "def build_array_nmt(lines, vocab, num_steps):\n",
    "    \"\"\"Transform text sequences of machine translation into mini-batches.\"\"\"\n",
    "    lines = [vocab[l] for l in lines]\n",
    "    lines = [[vocab['<bos>']] + l + [vocab['<eos>']] for l in lines]\n",
    "    array = torch.tensor([truncate_pad(\n",
    "        l, num_steps, vocab['<pad>']) for l in lines])\n",
    "    valid_len = (array != vocab['<pad>']).type(torch.int32).sum(1)\n",
    "    return array, valid_len\n",
    "\n",
    "def load_array(data_arrays, batch_size, is_train=True):\n",
    "    \"\"\"Construct a PyTorch data iterator.\"\"\"\n",
    "    dataset = torch.utils.data.TensorDataset(*data_arrays)\n",
    "    return torch.utils.data.DataLoader(dataset, batch_size, shuffle=is_train)\n",
    "\n",
    "def load_data_nmt(batch_size, num_steps, num_examples=600):\n",
    "    \"\"\"Return the iterator and the vocabularies of the translation dataset.\"\"\"\n",
    "    text = preprocess_nmt(read_data_nmt())\n",
    "    source, target = tokenize_nmt(text, num_examples)\n",
    "    src_vocab = Vocab(source, min_freq=2,\n",
    "                          reserved_tokens=['<pad>', '<bos>', '<eos>'])\n",
    "    tgt_vocab = Vocab(target, min_freq=2,\n",
    "                          reserved_tokens=['<pad>', '<bos>', '<eos>'])\n",
    "    src_array, src_valid_len = build_array_nmt(source, src_vocab, num_steps)\n",
    "    tgt_array, tgt_valid_len = build_array_nmt(target, tgt_vocab, num_steps)\n",
    "    data_arrays = (src_array, src_valid_len, tgt_array, tgt_valid_len)\n",
    "    data_iter = load_array(data_arrays, batch_size)\n",
    "    return data_iter, src_vocab, tgt_vocab"
   ]
  },
  {
   "cell_type": "code",
   "execution_count": 49,
   "metadata": {},
   "outputs": [],
   "source": [
    "dataloader, vocab_english, vocab_french = load_data_nmt(2, 4)"
   ]
  },
  {
   "cell_type": "code",
   "execution_count": 57,
   "metadata": {},
   "outputs": [],
   "source": [
    "for X, _, Y, _ in dataloader:\n",
    "    break"
   ]
  },
  {
   "cell_type": "code",
   "execution_count": 55,
   "metadata": {},
   "outputs": [
    {
     "data": {
      "text/plain": [
       "('tom', 'left', '.')"
      ]
     },
     "execution_count": 55,
     "metadata": {},
     "output_type": "execute_result"
    }
   ],
   "source": [
    "vocab_english.to_tokens(10), vocab_english.to_tokens(73), vocab_english.to_tokens(4)"
   ]
  },
  {
   "cell_type": "code",
   "execution_count": 56,
   "metadata": {},
   "outputs": [
    {
     "data": {
      "text/plain": [
       "('tom', '<unk>', '.')"
      ]
     },
     "execution_count": 56,
     "metadata": {},
     "output_type": "execute_result"
    }
   ],
   "source": [
    "vocab_french.to_tokens(8), vocab_french.to_tokens(0), vocab_french.to_tokens(4)"
   ]
  },
  {
   "cell_type": "code",
   "execution_count": 58,
   "metadata": {},
   "outputs": [
    {
     "data": {
      "text/plain": [
       "tensor([[ 2,  9, 82,  4],\n",
       "        [ 2, 36, 12,  5]])"
      ]
     },
     "execution_count": 58,
     "metadata": {},
     "output_type": "execute_result"
    }
   ],
   "source": [
    "X"
   ]
  },
  {
   "cell_type": "code",
   "execution_count": 59,
   "metadata": {},
   "outputs": [
    {
     "data": {
      "text/plain": [
       "tensor([[  2,  67,   5,   3],\n",
       "        [  2, 131,   5,   3]])"
      ]
     },
     "execution_count": 59,
     "metadata": {},
     "output_type": "execute_result"
    }
   ],
   "source": [
    "Y"
   ]
  },
  {
   "cell_type": "code",
   "execution_count": 60,
   "metadata": {},
   "outputs": [],
   "source": [
    "class EncoderDecoderTransformer(nn.Module):\n",
    "    def __init__(self, unique_french_words, unique_english_words, embedding_size):\n",
    "        super().__init__()\n",
    "\n",
    "        self.french_embedding_layer = nn.Embedding(unique_french_words, embedding_size)\n",
    "\n",
    "        self.attn1 = SelfAttention(embedding_size)\n",
    "        self.mlp1 = MLP(embedding_size, 2 * embedding_size, embedding_size)\n",
    "\n",
    "        self.attn2 = SelfAttention(embedding_size)\n",
    "        self.mlp2 = MLP(embedding_size, 2*embedding_size, embedding_size)\n",
    "\n",
    "        self.attn3 = SelfAttention(embedding_size)\n",
    "        self.mlp3 = MLP(embedding_size, 2*embedding_size, embedding_size)\n",
    "\n",
    "        self.english_embedding_layer = nn.Embedding(unique_english_words, embedding_size)\n",
    "\n",
    "        self.attn4 = SelfAttention(embedding_size)\n",
    "        self.cross_attn4 = CrossAttention(embedding_size)\n",
    "        self.mlp4 = MLP(embedding_size, embedding_size * 2, embedding_size)\n",
    "\n",
    "        self.attn5 = SelfAttention(embedding_size)\n",
    "        self.cross_attn5 = CrossAttention(embedding_size)\n",
    "        self.mlp5 = MLP(embedding_size, embedding_size * 2, embedding_size)\n",
    "\n",
    "        self.attn6 = SelfAttention(embedding_size)\n",
    "        self.cross_attn6 = CrossAttention(embedding_size)\n",
    "        self.mlp6 = MLP(embedding_size, embedding_size * 2, embedding_size)\n",
    "\n",
    "        self.to_out = nn.Linear(embedding_size, unique_english_words)\n",
    "\n",
    "    def forward(self, french_input, incomplete_english_input):\n",
    "        french_embeddings = self.french_embedding_layer(french_input)\n",
    "\n",
    "        french_embeddings2 = self.attn1(french_embeddings)\n",
    "        french_embeddings2 = self.mlp1(french_embeddings2)\n",
    "        french_embeddings2 += french_embeddings\n",
    "        \n",
    "        french_embeddings3 = self.attn2(french_embeddings2)\n",
    "        french_embeddings3 = self.mlp2(french_embeddings3)\n",
    "        french_embeddings3 += french_embeddings2\n",
    "\n",
    "        french_embeddings4 = self.attn3(french_embeddings3)\n",
    "        french_embeddings4 = self.mlp3(french_embeddings4)\n",
    "        french_embeddings4 += french_embeddings3\n",
    "\n",
    "        english_embeddings = self.english_embedding_layer(incomplete_english_input)\n",
    "        \n",
    "        english_embeddings2 = self.attn4(english_embeddings)\n",
    "        english_embeddings2 = self.cross_attn4(french_embeddings4, english_embeddings2)\n",
    "        english_embeddings2 = self.mlp4(english_embeddings2)\n",
    "        english_embeddings2 += english_embeddings\n",
    "\n",
    "        english_embeddings3 = self.attn5(english_embeddings2)\n",
    "        english_embeddings3 = self.cross_attn5(french_embeddings4, english_embeddings3)\n",
    "        english_embeddings3 = self.mlp5(english_embeddings3)\n",
    "        english_embeddings3 += english_embeddings2\n",
    "\n",
    "        english_embeddings4 = self.attn6(english_embeddings3)\n",
    "        english_embeddings4 = self.cross_attn6(french_embeddings4, english_embeddings4)\n",
    "        english_embeddings4 = self.mlp6(english_embeddings4)\n",
    "        english_embeddings4 += english_embeddings3\n",
    "\n",
    "        output = self.to_out(english_embeddings4)\n",
    "\n",
    "        return output"
   ]
  },
  {
   "cell_type": "code",
   "execution_count": 62,
   "metadata": {},
   "outputs": [],
   "source": [
    "loss_function = nn.CrossEntropyLoss(ignore_index = 1)"
   ]
  },
  {
   "cell_type": "code",
   "execution_count": 63,
   "metadata": {},
   "outputs": [],
   "source": [
    "transformer = EncoderDecoderTransformer(len(vocab_french), len(vocab_english), 256)"
   ]
  },
  {
   "cell_type": "code",
   "execution_count": 64,
   "metadata": {},
   "outputs": [],
   "source": [
    "optimizer = torch.optim.SGD(transformer.parameters(), lr = 0.01)"
   ]
  },
  {
   "cell_type": "code",
   "execution_count": 65,
   "metadata": {},
   "outputs": [
    {
     "data": {
      "text/plain": [
       "EncoderDecoderTransformer(\n",
       "  (french_embedding_layer): Embedding(201, 256)\n",
       "  (attn1): SelfAttention(\n",
       "    (attention): MultiheadAttention(\n",
       "      (out_proj): NonDynamicallyQuantizableLinear(in_features=256, out_features=256, bias=True)\n",
       "    )\n",
       "  )\n",
       "  (mlp1): MLP(\n",
       "    (linear1): Linear(in_features=256, out_features=512, bias=True)\n",
       "    (relu): ReLU()\n",
       "    (linear2): Linear(in_features=512, out_features=256, bias=True)\n",
       "  )\n",
       "  (attn2): SelfAttention(\n",
       "    (attention): MultiheadAttention(\n",
       "      (out_proj): NonDynamicallyQuantizableLinear(in_features=256, out_features=256, bias=True)\n",
       "    )\n",
       "  )\n",
       "  (mlp2): MLP(\n",
       "    (linear1): Linear(in_features=256, out_features=512, bias=True)\n",
       "    (relu): ReLU()\n",
       "    (linear2): Linear(in_features=512, out_features=256, bias=True)\n",
       "  )\n",
       "  (attn3): SelfAttention(\n",
       "    (attention): MultiheadAttention(\n",
       "      (out_proj): NonDynamicallyQuantizableLinear(in_features=256, out_features=256, bias=True)\n",
       "    )\n",
       "  )\n",
       "  (mlp3): MLP(\n",
       "    (linear1): Linear(in_features=256, out_features=512, bias=True)\n",
       "    (relu): ReLU()\n",
       "    (linear2): Linear(in_features=512, out_features=256, bias=True)\n",
       "  )\n",
       "  (english_embedding_layer): Embedding(184, 256)\n",
       "  (attn4): SelfAttention(\n",
       "    (attention): MultiheadAttention(\n",
       "      (out_proj): NonDynamicallyQuantizableLinear(in_features=256, out_features=256, bias=True)\n",
       "    )\n",
       "  )\n",
       "  (cross_attn4): CrossAttention(\n",
       "    (attention): MultiheadAttention(\n",
       "      (out_proj): NonDynamicallyQuantizableLinear(in_features=256, out_features=256, bias=True)\n",
       "    )\n",
       "  )\n",
       "  (mlp4): MLP(\n",
       "    (linear1): Linear(in_features=256, out_features=512, bias=True)\n",
       "    (relu): ReLU()\n",
       "    (linear2): Linear(in_features=512, out_features=256, bias=True)\n",
       "  )\n",
       "  (attn5): SelfAttention(\n",
       "    (attention): MultiheadAttention(\n",
       "      (out_proj): NonDynamicallyQuantizableLinear(in_features=256, out_features=256, bias=True)\n",
       "    )\n",
       "  )\n",
       "  (cross_attn5): CrossAttention(\n",
       "    (attention): MultiheadAttention(\n",
       "      (out_proj): NonDynamicallyQuantizableLinear(in_features=256, out_features=256, bias=True)\n",
       "    )\n",
       "  )\n",
       "  (mlp5): MLP(\n",
       "    (linear1): Linear(in_features=256, out_features=512, bias=True)\n",
       "    (relu): ReLU()\n",
       "    (linear2): Linear(in_features=512, out_features=256, bias=True)\n",
       "  )\n",
       "  (attn6): SelfAttention(\n",
       "    (attention): MultiheadAttention(\n",
       "      (out_proj): NonDynamicallyQuantizableLinear(in_features=256, out_features=256, bias=True)\n",
       "    )\n",
       "  )\n",
       "  (cross_attn6): CrossAttention(\n",
       "    (attention): MultiheadAttention(\n",
       "      (out_proj): NonDynamicallyQuantizableLinear(in_features=256, out_features=256, bias=True)\n",
       "    )\n",
       "  )\n",
       "  (mlp6): MLP(\n",
       "    (linear1): Linear(in_features=256, out_features=512, bias=True)\n",
       "    (relu): ReLU()\n",
       "    (linear2): Linear(in_features=512, out_features=256, bias=True)\n",
       "  )\n",
       "  (to_out): Linear(in_features=256, out_features=184, bias=True)\n",
       ")"
      ]
     },
     "execution_count": 65,
     "metadata": {},
     "output_type": "execute_result"
    }
   ],
   "source": [
    "transformer.to(\"cuda\")"
   ]
  },
  {
   "cell_type": "code",
   "execution_count": 66,
   "metadata": {},
   "outputs": [
    {
     "name": "stdout",
     "output_type": "stream",
     "text": [
      "tensor(3.5355, device='cuda:0', grad_fn=<DivBackward0>)\n",
      "tensor(2.5557, device='cuda:0', grad_fn=<DivBackward0>)\n",
      "tensor(2.1788, device='cuda:0', grad_fn=<DivBackward0>)\n",
      "tensor(1.9028, device='cuda:0', grad_fn=<DivBackward0>)\n",
      "tensor(1.7324, device='cuda:0', grad_fn=<DivBackward0>)\n",
      "tensor(1.5694, device='cuda:0', grad_fn=<DivBackward0>)\n",
      "tensor(1.4071, device='cuda:0', grad_fn=<DivBackward0>)\n",
      "tensor(1.2649, device='cuda:0', grad_fn=<DivBackward0>)\n",
      "tensor(1.1648, device='cuda:0', grad_fn=<DivBackward0>)\n",
      "tensor(1.0494, device='cuda:0', grad_fn=<DivBackward0>)\n",
      "tensor(0.9609, device='cuda:0', grad_fn=<DivBackward0>)\n",
      "tensor(0.8753, device='cuda:0', grad_fn=<DivBackward0>)\n",
      "tensor(0.7942, device='cuda:0', grad_fn=<DivBackward0>)\n",
      "tensor(0.7511, device='cuda:0', grad_fn=<DivBackward0>)\n",
      "tensor(0.6928, device='cuda:0', grad_fn=<DivBackward0>)\n",
      "tensor(0.6529, device='cuda:0', grad_fn=<DivBackward0>)\n",
      "tensor(0.6343, device='cuda:0', grad_fn=<DivBackward0>)\n",
      "tensor(0.5936, device='cuda:0', grad_fn=<DivBackward0>)\n",
      "tensor(0.5716, device='cuda:0', grad_fn=<DivBackward0>)\n",
      "tensor(0.5493, device='cuda:0', grad_fn=<DivBackward0>)\n",
      "tensor(0.5217, device='cuda:0', grad_fn=<DivBackward0>)\n",
      "tensor(0.5075, device='cuda:0', grad_fn=<DivBackward0>)\n",
      "tensor(0.5150, device='cuda:0', grad_fn=<DivBackward0>)\n",
      "tensor(0.5034, device='cuda:0', grad_fn=<DivBackward0>)\n",
      "tensor(0.4932, device='cuda:0', grad_fn=<DivBackward0>)\n",
      "tensor(0.4808, device='cuda:0', grad_fn=<DivBackward0>)\n",
      "tensor(0.4854, device='cuda:0', grad_fn=<DivBackward0>)\n",
      "tensor(0.4710, device='cuda:0', grad_fn=<DivBackward0>)\n",
      "tensor(0.4624, device='cuda:0', grad_fn=<DivBackward0>)\n",
      "tensor(0.4725, device='cuda:0', grad_fn=<DivBackward0>)\n",
      "tensor(0.4516, device='cuda:0', grad_fn=<DivBackward0>)\n",
      "tensor(0.4477, device='cuda:0', grad_fn=<DivBackward0>)\n",
      "tensor(0.4537, device='cuda:0', grad_fn=<DivBackward0>)\n",
      "tensor(0.4493, device='cuda:0', grad_fn=<DivBackward0>)\n",
      "tensor(0.4424, device='cuda:0', grad_fn=<DivBackward0>)\n",
      "tensor(0.4362, device='cuda:0', grad_fn=<DivBackward0>)\n",
      "tensor(0.4292, device='cuda:0', grad_fn=<DivBackward0>)\n",
      "tensor(0.4378, device='cuda:0', grad_fn=<DivBackward0>)\n",
      "tensor(0.4294, device='cuda:0', grad_fn=<DivBackward0>)\n",
      "tensor(0.4371, device='cuda:0', grad_fn=<DivBackward0>)\n",
      "tensor(0.4262, device='cuda:0', grad_fn=<DivBackward0>)\n",
      "tensor(0.4219, device='cuda:0', grad_fn=<DivBackward0>)\n",
      "tensor(0.4210, device='cuda:0', grad_fn=<DivBackward0>)\n",
      "tensor(0.4259, device='cuda:0', grad_fn=<DivBackward0>)\n",
      "tensor(0.4221, device='cuda:0', grad_fn=<DivBackward0>)\n",
      "tensor(0.4188, device='cuda:0', grad_fn=<DivBackward0>)\n",
      "tensor(0.4188, device='cuda:0', grad_fn=<DivBackward0>)\n",
      "tensor(0.4166, device='cuda:0', grad_fn=<DivBackward0>)\n",
      "tensor(0.4142, device='cuda:0', grad_fn=<DivBackward0>)\n",
      "tensor(0.4154, device='cuda:0', grad_fn=<DivBackward0>)\n",
      "tensor(0.4121, device='cuda:0', grad_fn=<DivBackward0>)\n",
      "tensor(0.4095, device='cuda:0', grad_fn=<DivBackward0>)\n",
      "tensor(0.4117, device='cuda:0', grad_fn=<DivBackward0>)\n",
      "tensor(0.4206, device='cuda:0', grad_fn=<DivBackward0>)\n",
      "tensor(0.4110, device='cuda:0', grad_fn=<DivBackward0>)\n",
      "tensor(0.4160, device='cuda:0', grad_fn=<DivBackward0>)\n",
      "tensor(0.4101, device='cuda:0', grad_fn=<DivBackward0>)\n"
     ]
    },
    {
     "ename": "KeyboardInterrupt",
     "evalue": "",
     "output_type": "error",
     "traceback": [
      "\u001b[1;31m---------------------------------------------------------------------------\u001b[0m",
      "\u001b[1;31mKeyboardInterrupt\u001b[0m                         Traceback (most recent call last)",
      "Cell \u001b[1;32mIn[66], line 20\u001b[0m\n\u001b[0;32m     18\u001b[0m     optimizer\u001b[38;5;241m.\u001b[39mzero_grad()\n\u001b[0;32m     19\u001b[0m     loss\u001b[38;5;241m.\u001b[39mbackward()\n\u001b[1;32m---> 20\u001b[0m     \u001b[43moptimizer\u001b[49m\u001b[38;5;241;43m.\u001b[39;49m\u001b[43mstep\u001b[49m\u001b[43m(\u001b[49m\u001b[43m)\u001b[49m\n\u001b[0;32m     21\u001b[0m     batch_count \u001b[38;5;241m+\u001b[39m\u001b[38;5;241m=\u001b[39m \u001b[38;5;241m1\u001b[39m\n\u001b[0;32m     23\u001b[0m \u001b[38;5;28mprint\u001b[39m(epoch_loss \u001b[38;5;241m/\u001b[39m batch_count)\n",
      "File \u001b[1;32mc:\\Users\\Claudiu\\miniconda3\\envs\\lv\\lib\\site-packages\\torch\\optim\\optimizer.py:484\u001b[0m, in \u001b[0;36mOptimizer.profile_hook_step.<locals>.wrapper\u001b[1;34m(*args, **kwargs)\u001b[0m\n\u001b[0;32m    479\u001b[0m         \u001b[38;5;28;01melse\u001b[39;00m:\n\u001b[0;32m    480\u001b[0m             \u001b[38;5;28;01mraise\u001b[39;00m \u001b[38;5;167;01mRuntimeError\u001b[39;00m(\n\u001b[0;32m    481\u001b[0m                 \u001b[38;5;124mf\u001b[39m\u001b[38;5;124m\"\u001b[39m\u001b[38;5;132;01m{\u001b[39;00mfunc\u001b[38;5;132;01m}\u001b[39;00m\u001b[38;5;124m must return None or a tuple of (new_args, new_kwargs), but got \u001b[39m\u001b[38;5;132;01m{\u001b[39;00mresult\u001b[38;5;132;01m}\u001b[39;00m\u001b[38;5;124m.\u001b[39m\u001b[38;5;124m\"\u001b[39m\n\u001b[0;32m    482\u001b[0m             )\n\u001b[1;32m--> 484\u001b[0m out \u001b[38;5;241m=\u001b[39m func(\u001b[38;5;241m*\u001b[39margs, \u001b[38;5;241m*\u001b[39m\u001b[38;5;241m*\u001b[39mkwargs)\n\u001b[0;32m    485\u001b[0m \u001b[38;5;28mself\u001b[39m\u001b[38;5;241m.\u001b[39m_optimizer_step_code()\n\u001b[0;32m    487\u001b[0m \u001b[38;5;66;03m# call optimizer step post hooks\u001b[39;00m\n",
      "File \u001b[1;32mc:\\Users\\Claudiu\\miniconda3\\envs\\lv\\lib\\site-packages\\torch\\optim\\optimizer.py:89\u001b[0m, in \u001b[0;36m_use_grad_for_differentiable.<locals>._use_grad\u001b[1;34m(self, *args, **kwargs)\u001b[0m\n\u001b[0;32m     87\u001b[0m     torch\u001b[38;5;241m.\u001b[39mset_grad_enabled(\u001b[38;5;28mself\u001b[39m\u001b[38;5;241m.\u001b[39mdefaults[\u001b[38;5;124m\"\u001b[39m\u001b[38;5;124mdifferentiable\u001b[39m\u001b[38;5;124m\"\u001b[39m])\n\u001b[0;32m     88\u001b[0m     torch\u001b[38;5;241m.\u001b[39m_dynamo\u001b[38;5;241m.\u001b[39mgraph_break()\n\u001b[1;32m---> 89\u001b[0m     ret \u001b[38;5;241m=\u001b[39m func(\u001b[38;5;28mself\u001b[39m, \u001b[38;5;241m*\u001b[39margs, \u001b[38;5;241m*\u001b[39m\u001b[38;5;241m*\u001b[39mkwargs)\n\u001b[0;32m     90\u001b[0m \u001b[38;5;28;01mfinally\u001b[39;00m:\n\u001b[0;32m     91\u001b[0m     torch\u001b[38;5;241m.\u001b[39m_dynamo\u001b[38;5;241m.\u001b[39mgraph_break()\n",
      "File \u001b[1;32mc:\\Users\\Claudiu\\miniconda3\\envs\\lv\\lib\\site-packages\\torch\\optim\\sgd.py:123\u001b[0m, in \u001b[0;36mSGD.step\u001b[1;34m(self, closure)\u001b[0m\n\u001b[0;32m    117\u001b[0m momentum_buffer_list: List[Optional[Tensor]] \u001b[38;5;241m=\u001b[39m []\n\u001b[0;32m    119\u001b[0m has_sparse_grad \u001b[38;5;241m=\u001b[39m \u001b[38;5;28mself\u001b[39m\u001b[38;5;241m.\u001b[39m_init_group(\n\u001b[0;32m    120\u001b[0m     group, params, grads, momentum_buffer_list\n\u001b[0;32m    121\u001b[0m )\n\u001b[1;32m--> 123\u001b[0m \u001b[43msgd\u001b[49m\u001b[43m(\u001b[49m\n\u001b[0;32m    124\u001b[0m \u001b[43m    \u001b[49m\u001b[43mparams\u001b[49m\u001b[43m,\u001b[49m\n\u001b[0;32m    125\u001b[0m \u001b[43m    \u001b[49m\u001b[43mgrads\u001b[49m\u001b[43m,\u001b[49m\n\u001b[0;32m    126\u001b[0m \u001b[43m    \u001b[49m\u001b[43mmomentum_buffer_list\u001b[49m\u001b[43m,\u001b[49m\n\u001b[0;32m    127\u001b[0m \u001b[43m    \u001b[49m\u001b[43mweight_decay\u001b[49m\u001b[38;5;241;43m=\u001b[39;49m\u001b[43mgroup\u001b[49m\u001b[43m[\u001b[49m\u001b[38;5;124;43m\"\u001b[39;49m\u001b[38;5;124;43mweight_decay\u001b[39;49m\u001b[38;5;124;43m\"\u001b[39;49m\u001b[43m]\u001b[49m\u001b[43m,\u001b[49m\n\u001b[0;32m    128\u001b[0m \u001b[43m    \u001b[49m\u001b[43mmomentum\u001b[49m\u001b[38;5;241;43m=\u001b[39;49m\u001b[43mgroup\u001b[49m\u001b[43m[\u001b[49m\u001b[38;5;124;43m\"\u001b[39;49m\u001b[38;5;124;43mmomentum\u001b[39;49m\u001b[38;5;124;43m\"\u001b[39;49m\u001b[43m]\u001b[49m\u001b[43m,\u001b[49m\n\u001b[0;32m    129\u001b[0m \u001b[43m    \u001b[49m\u001b[43mlr\u001b[49m\u001b[38;5;241;43m=\u001b[39;49m\u001b[43mgroup\u001b[49m\u001b[43m[\u001b[49m\u001b[38;5;124;43m\"\u001b[39;49m\u001b[38;5;124;43mlr\u001b[39;49m\u001b[38;5;124;43m\"\u001b[39;49m\u001b[43m]\u001b[49m\u001b[43m,\u001b[49m\n\u001b[0;32m    130\u001b[0m \u001b[43m    \u001b[49m\u001b[43mdampening\u001b[49m\u001b[38;5;241;43m=\u001b[39;49m\u001b[43mgroup\u001b[49m\u001b[43m[\u001b[49m\u001b[38;5;124;43m\"\u001b[39;49m\u001b[38;5;124;43mdampening\u001b[39;49m\u001b[38;5;124;43m\"\u001b[39;49m\u001b[43m]\u001b[49m\u001b[43m,\u001b[49m\n\u001b[0;32m    131\u001b[0m \u001b[43m    \u001b[49m\u001b[43mnesterov\u001b[49m\u001b[38;5;241;43m=\u001b[39;49m\u001b[43mgroup\u001b[49m\u001b[43m[\u001b[49m\u001b[38;5;124;43m\"\u001b[39;49m\u001b[38;5;124;43mnesterov\u001b[39;49m\u001b[38;5;124;43m\"\u001b[39;49m\u001b[43m]\u001b[49m\u001b[43m,\u001b[49m\n\u001b[0;32m    132\u001b[0m \u001b[43m    \u001b[49m\u001b[43mmaximize\u001b[49m\u001b[38;5;241;43m=\u001b[39;49m\u001b[43mgroup\u001b[49m\u001b[43m[\u001b[49m\u001b[38;5;124;43m\"\u001b[39;49m\u001b[38;5;124;43mmaximize\u001b[39;49m\u001b[38;5;124;43m\"\u001b[39;49m\u001b[43m]\u001b[49m\u001b[43m,\u001b[49m\n\u001b[0;32m    133\u001b[0m \u001b[43m    \u001b[49m\u001b[43mhas_sparse_grad\u001b[49m\u001b[38;5;241;43m=\u001b[39;49m\u001b[43mhas_sparse_grad\u001b[49m\u001b[43m,\u001b[49m\n\u001b[0;32m    134\u001b[0m \u001b[43m    \u001b[49m\u001b[43mforeach\u001b[49m\u001b[38;5;241;43m=\u001b[39;49m\u001b[43mgroup\u001b[49m\u001b[43m[\u001b[49m\u001b[38;5;124;43m\"\u001b[39;49m\u001b[38;5;124;43mforeach\u001b[39;49m\u001b[38;5;124;43m\"\u001b[39;49m\u001b[43m]\u001b[49m\u001b[43m,\u001b[49m\n\u001b[0;32m    135\u001b[0m \u001b[43m    \u001b[49m\u001b[43mfused\u001b[49m\u001b[38;5;241;43m=\u001b[39;49m\u001b[43mgroup\u001b[49m\u001b[43m[\u001b[49m\u001b[38;5;124;43m\"\u001b[39;49m\u001b[38;5;124;43mfused\u001b[39;49m\u001b[38;5;124;43m\"\u001b[39;49m\u001b[43m]\u001b[49m\u001b[43m,\u001b[49m\n\u001b[0;32m    136\u001b[0m \u001b[43m    \u001b[49m\u001b[43mgrad_scale\u001b[49m\u001b[38;5;241;43m=\u001b[39;49m\u001b[38;5;28;43mgetattr\u001b[39;49m\u001b[43m(\u001b[49m\u001b[38;5;28;43mself\u001b[39;49m\u001b[43m,\u001b[49m\u001b[43m \u001b[49m\u001b[38;5;124;43m\"\u001b[39;49m\u001b[38;5;124;43mgrad_scale\u001b[39;49m\u001b[38;5;124;43m\"\u001b[39;49m\u001b[43m,\u001b[49m\u001b[43m \u001b[49m\u001b[38;5;28;43;01mNone\u001b[39;49;00m\u001b[43m)\u001b[49m\u001b[43m,\u001b[49m\n\u001b[0;32m    137\u001b[0m \u001b[43m    \u001b[49m\u001b[43mfound_inf\u001b[49m\u001b[38;5;241;43m=\u001b[39;49m\u001b[38;5;28;43mgetattr\u001b[39;49m\u001b[43m(\u001b[49m\u001b[38;5;28;43mself\u001b[39;49m\u001b[43m,\u001b[49m\u001b[43m \u001b[49m\u001b[38;5;124;43m\"\u001b[39;49m\u001b[38;5;124;43mfound_inf\u001b[39;49m\u001b[38;5;124;43m\"\u001b[39;49m\u001b[43m,\u001b[49m\u001b[43m \u001b[49m\u001b[38;5;28;43;01mNone\u001b[39;49;00m\u001b[43m)\u001b[49m\u001b[43m,\u001b[49m\n\u001b[0;32m    138\u001b[0m \u001b[43m\u001b[49m\u001b[43m)\u001b[49m\n\u001b[0;32m    140\u001b[0m \u001b[38;5;28;01mif\u001b[39;00m group[\u001b[38;5;124m\"\u001b[39m\u001b[38;5;124mmomentum\u001b[39m\u001b[38;5;124m\"\u001b[39m] \u001b[38;5;241m!=\u001b[39m \u001b[38;5;241m0\u001b[39m:\n\u001b[0;32m    141\u001b[0m     \u001b[38;5;66;03m# update momentum_buffers in state\u001b[39;00m\n\u001b[0;32m    142\u001b[0m     \u001b[38;5;28;01mfor\u001b[39;00m p, momentum_buffer \u001b[38;5;129;01min\u001b[39;00m \u001b[38;5;28mzip\u001b[39m(params, momentum_buffer_list):\n",
      "File \u001b[1;32mc:\\Users\\Claudiu\\miniconda3\\envs\\lv\\lib\\site-packages\\torch\\optim\\sgd.py:299\u001b[0m, in \u001b[0;36msgd\u001b[1;34m(params, d_p_list, momentum_buffer_list, has_sparse_grad, foreach, fused, grad_scale, found_inf, weight_decay, momentum, lr, dampening, nesterov, maximize)\u001b[0m\n\u001b[0;32m    296\u001b[0m \u001b[38;5;28;01melse\u001b[39;00m:\n\u001b[0;32m    297\u001b[0m     func \u001b[38;5;241m=\u001b[39m _single_tensor_sgd\n\u001b[1;32m--> 299\u001b[0m \u001b[43mfunc\u001b[49m\u001b[43m(\u001b[49m\n\u001b[0;32m    300\u001b[0m \u001b[43m    \u001b[49m\u001b[43mparams\u001b[49m\u001b[43m,\u001b[49m\n\u001b[0;32m    301\u001b[0m \u001b[43m    \u001b[49m\u001b[43md_p_list\u001b[49m\u001b[43m,\u001b[49m\n\u001b[0;32m    302\u001b[0m \u001b[43m    \u001b[49m\u001b[43mmomentum_buffer_list\u001b[49m\u001b[43m,\u001b[49m\n\u001b[0;32m    303\u001b[0m \u001b[43m    \u001b[49m\u001b[43mweight_decay\u001b[49m\u001b[38;5;241;43m=\u001b[39;49m\u001b[43mweight_decay\u001b[49m\u001b[43m,\u001b[49m\n\u001b[0;32m    304\u001b[0m \u001b[43m    \u001b[49m\u001b[43mmomentum\u001b[49m\u001b[38;5;241;43m=\u001b[39;49m\u001b[43mmomentum\u001b[49m\u001b[43m,\u001b[49m\n\u001b[0;32m    305\u001b[0m \u001b[43m    \u001b[49m\u001b[43mlr\u001b[49m\u001b[38;5;241;43m=\u001b[39;49m\u001b[43mlr\u001b[49m\u001b[43m,\u001b[49m\n\u001b[0;32m    306\u001b[0m \u001b[43m    \u001b[49m\u001b[43mdampening\u001b[49m\u001b[38;5;241;43m=\u001b[39;49m\u001b[43mdampening\u001b[49m\u001b[43m,\u001b[49m\n\u001b[0;32m    307\u001b[0m \u001b[43m    \u001b[49m\u001b[43mnesterov\u001b[49m\u001b[38;5;241;43m=\u001b[39;49m\u001b[43mnesterov\u001b[49m\u001b[43m,\u001b[49m\n\u001b[0;32m    308\u001b[0m \u001b[43m    \u001b[49m\u001b[43mhas_sparse_grad\u001b[49m\u001b[38;5;241;43m=\u001b[39;49m\u001b[43mhas_sparse_grad\u001b[49m\u001b[43m,\u001b[49m\n\u001b[0;32m    309\u001b[0m \u001b[43m    \u001b[49m\u001b[43mmaximize\u001b[49m\u001b[38;5;241;43m=\u001b[39;49m\u001b[43mmaximize\u001b[49m\u001b[43m,\u001b[49m\n\u001b[0;32m    310\u001b[0m \u001b[43m    \u001b[49m\u001b[43mgrad_scale\u001b[49m\u001b[38;5;241;43m=\u001b[39;49m\u001b[43mgrad_scale\u001b[49m\u001b[43m,\u001b[49m\n\u001b[0;32m    311\u001b[0m \u001b[43m    \u001b[49m\u001b[43mfound_inf\u001b[49m\u001b[38;5;241;43m=\u001b[39;49m\u001b[43mfound_inf\u001b[49m\u001b[43m,\u001b[49m\n\u001b[0;32m    312\u001b[0m \u001b[43m\u001b[49m\u001b[43m)\u001b[49m\n",
      "File \u001b[1;32mc:\\Users\\Claudiu\\miniconda3\\envs\\lv\\lib\\site-packages\\torch\\optim\\sgd.py:437\u001b[0m, in \u001b[0;36m_multi_tensor_sgd\u001b[1;34m(params, grads, momentum_buffer_list, grad_scale, found_inf, weight_decay, momentum, lr, dampening, nesterov, maximize, has_sparse_grad)\u001b[0m\n\u001b[0;32m    435\u001b[0m         torch\u001b[38;5;241m.\u001b[39m_foreach_add_(device_params, grads_x_lr)\n\u001b[0;32m    436\u001b[0m     \u001b[38;5;28;01melse\u001b[39;00m:\n\u001b[1;32m--> 437\u001b[0m         \u001b[43mtorch\u001b[49m\u001b[38;5;241;43m.\u001b[39;49m\u001b[43m_foreach_add_\u001b[49m\u001b[43m(\u001b[49m\u001b[43mdevice_params\u001b[49m\u001b[43m,\u001b[49m\u001b[43m \u001b[49m\u001b[43mdevice_grads\u001b[49m\u001b[43m,\u001b[49m\u001b[43m \u001b[49m\u001b[43malpha\u001b[49m\u001b[38;5;241;43m=\u001b[39;49m\u001b[38;5;241;43m-\u001b[39;49m\u001b[43mlr\u001b[49m\u001b[43m)\u001b[49m\n\u001b[0;32m    438\u001b[0m \u001b[38;5;28;01melse\u001b[39;00m:\n\u001b[0;32m    439\u001b[0m     \u001b[38;5;66;03m# foreach APIs don't support sparse\u001b[39;00m\n\u001b[0;32m    440\u001b[0m     \u001b[38;5;28;01mfor\u001b[39;00m i \u001b[38;5;129;01min\u001b[39;00m \u001b[38;5;28mrange\u001b[39m(\u001b[38;5;28mlen\u001b[39m(device_params)):\n",
      "\u001b[1;31mKeyboardInterrupt\u001b[0m: "
     ]
    }
   ],
   "source": [
    "for i in range(1000):\n",
    "    epoch_loss = 0\n",
    "    batch_count = 0\n",
    "    for english_batch, _, french_batch, _ in dataloader:\n",
    "        english_batch = english_batch.to(\"cuda\")\n",
    "        french_batch = french_batch.to(\"cuda\")\n",
    "        # Je suis bored_french\n",
    "        # <bos> I am\n",
    "        # model says: I am sleepy_english \n",
    "        # wanted output: I am bored_english\n",
    "        model_prediction = transformer(french_batch, english_batch)\n",
    "        \n",
    "        model_next_prediction = model_prediction[:, :-1].permute(0, 2, 1)\n",
    "        model_wanted_output = english_batch[:, 1:]\n",
    "\n",
    "        loss = loss_function(model_next_prediction, model_wanted_output)\n",
    "        epoch_loss += loss\n",
    "        optimizer.zero_grad()\n",
    "        loss.backward()\n",
    "        optimizer.step()\n",
    "        batch_count += 1\n",
    "\n",
    "    print(epoch_loss / batch_count)"
   ]
  },
  {
   "cell_type": "code",
   "execution_count": 41,
   "metadata": {},
   "outputs": [],
   "source": [
    "def predict_seq2seq(net, src_sentence, src_vocab, tgt_vocab, num_steps):\n",
    "    \"\"\"Predict for sequence to sequence.\"\"\"\n",
    "    # Set `net` to eval mode for inference\n",
    "    net.eval()\n",
    "    src_tokens = [src_vocab['<bos>']] + src_vocab[src_sentence.lower().split(' ')] + [\n",
    "        src_vocab['<eos>']]\n",
    "\n",
    "    output_seq = [tgt_vocab['<bos>']]\n",
    "    for _ in range(num_steps):\n",
    "        Y = net(torch.tensor(src_tokens).unsqueeze(0).to(\"cuda\"), torch.tensor(output_seq).unsqueeze(0).to(\"cuda\"))\n",
    "        # We use the token with the highest prediction likelihood as the input\n",
    "        # of the decoder at the next time step\n",
    "        dec_X = Y[:, -1, :].argmax()\n",
    "        pred = dec_X.item()\n",
    "        if pred == tgt_vocab['<eos>']:\n",
    "            break\n",
    "        output_seq.append(pred)\n",
    "    return ' '.join(tgt_vocab.to_tokens(output_seq))"
   ]
  },
  {
   "cell_type": "code",
   "execution_count": 68,
   "metadata": {},
   "outputs": [
    {
     "data": {
      "text/plain": [
       "'<bos> i lost .'"
      ]
     },
     "execution_count": 68,
     "metadata": {},
     "output_type": "execute_result"
    }
   ],
   "source": [
    "predict_seq2seq(transformer, \"j'ai perdu .\", vocab_french, vocab_english, 4)"
   ]
  },
  {
   "cell_type": "code",
   "execution_count": null,
   "metadata": {},
   "outputs": [],
   "source": []
  }
 ],
 "metadata": {
  "kernelspec": {
   "display_name": "lv",
   "language": "python",
   "name": "python3"
  },
  "language_info": {
   "codemirror_mode": {
    "name": "ipython",
    "version": 3
   },
   "file_extension": ".py",
   "mimetype": "text/x-python",
   "name": "python",
   "nbconvert_exporter": "python",
   "pygments_lexer": "ipython3",
   "version": "3.9.19"
  }
 },
 "nbformat": 4,
 "nbformat_minor": 2
}
