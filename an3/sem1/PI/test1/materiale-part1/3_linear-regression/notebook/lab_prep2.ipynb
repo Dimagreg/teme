{
 "cells": [
  {
   "cell_type": "code",
   "execution_count": 1,
   "metadata": {},
   "outputs": [],
   "source": [
    "import torch\n",
    "import torch.nn as nn\n",
    "from torch.utils.data import Dataset, DataLoader"
   ]
  },
  {
   "cell_type": "code",
   "execution_count": 2,
   "metadata": {},
   "outputs": [],
   "source": [
    "# torchvision is a python library that complements pytorch/torch with functionality related to \n",
    "# computer vision (to images) in torchvision.datasets we can find toy datasets containing images\n",
    "from torchvision.datasets import FashionMNIST\n",
    "# in torchvision.transforms we find transforms: these take in an image and does something to it\n",
    "# there are transforms that rotate images, transforms that crop images etc.\n",
    "# these are useful as a way to increase the size of our dataset: it is usually good for the model to see as much data as possible\n",
    "# we will make use of ToTensor(), which converts PIL (Python Image Library) images to a format that pytorch understands (a tensor)\n",
    "from torchvision.transforms import ToTensor"
   ]
  },
  {
   "cell_type": "code",
   "execution_count": 4,
   "metadata": {},
   "outputs": [],
   "source": [
    "# load the training dataset of FashionMNIST\n",
    "# this dataset contains 60000 images, and for each one of them, the index of a class\n",
    "# (you can find the order of the classes in the presentation / notebook)\n",
    "# notice we pass transform = ToTensor()\n",
    "mnist_train_dataset = FashionMNIST(root = \"/data\", train = True, transform = ToTensor(), download = True)"
   ]
  },
  {
   "cell_type": "code",
   "execution_count": 6,
   "metadata": {},
   "outputs": [
    {
     "data": {
      "text/plain": [
       "tensor([[[0.0000, 0.0000, 0.0000, 0.0000, 0.0000, 0.0000, 0.0000, 0.0000,\n",
       "          0.0000, 0.0000, 0.0000, 0.0000, 0.0000, 0.0000, 0.0000, 0.0000,\n",
       "          0.0000, 0.0000, 0.0000, 0.0000, 0.0000, 0.0000, 0.0000, 0.0000,\n",
       "          0.0000, 0.0000, 0.0000, 0.0000],\n",
       "         [0.0000, 0.0000, 0.0000, 0.0000, 0.0000, 0.0000, 0.0000, 0.0000,\n",
       "          0.0000, 0.0000, 0.0000, 0.0000, 0.0000, 0.0000, 0.0000, 0.0000,\n",
       "          0.0000, 0.0000, 0.0000, 0.0000, 0.0000, 0.0000, 0.0000, 0.0000,\n",
       "          0.0000, 0.0000, 0.0000, 0.0000],\n",
       "         [0.0000, 0.0000, 0.0000, 0.0000, 0.0000, 0.0000, 0.0000, 0.0000,\n",
       "          0.0000, 0.0000, 0.0000, 0.0000, 0.0000, 0.0000, 0.0000, 0.0000,\n",
       "          0.0000, 0.0000, 0.0000, 0.0000, 0.0000, 0.0000, 0.0000, 0.0000,\n",
       "          0.0000, 0.0000, 0.0000, 0.0000],\n",
       "         [0.0000, 0.0000, 0.0000, 0.0000, 0.0000, 0.0000, 0.0000, 0.0000,\n",
       "          0.0000, 0.0000, 0.0000, 0.0000, 0.0039, 0.0000, 0.0000, 0.0510,\n",
       "          0.2863, 0.0000, 0.0000, 0.0039, 0.0157, 0.0000, 0.0000, 0.0000,\n",
       "          0.0000, 0.0039, 0.0039, 0.0000],\n",
       "         [0.0000, 0.0000, 0.0000, 0.0000, 0.0000, 0.0000, 0.0000, 0.0000,\n",
       "          0.0000, 0.0000, 0.0000, 0.0000, 0.0118, 0.0000, 0.1412, 0.5333,\n",
       "          0.4980, 0.2431, 0.2118, 0.0000, 0.0000, 0.0000, 0.0039, 0.0118,\n",
       "          0.0157, 0.0000, 0.0000, 0.0118],\n",
       "         [0.0000, 0.0000, 0.0000, 0.0000, 0.0000, 0.0000, 0.0000, 0.0000,\n",
       "          0.0000, 0.0000, 0.0000, 0.0000, 0.0235, 0.0000, 0.4000, 0.8000,\n",
       "          0.6902, 0.5255, 0.5647, 0.4824, 0.0902, 0.0000, 0.0000, 0.0000,\n",
       "          0.0000, 0.0471, 0.0392, 0.0000],\n",
       "         [0.0000, 0.0000, 0.0000, 0.0000, 0.0000, 0.0000, 0.0000, 0.0000,\n",
       "          0.0000, 0.0000, 0.0000, 0.0000, 0.0000, 0.0000, 0.6078, 0.9255,\n",
       "          0.8118, 0.6980, 0.4196, 0.6118, 0.6314, 0.4275, 0.2510, 0.0902,\n",
       "          0.3020, 0.5098, 0.2824, 0.0588],\n",
       "         [0.0000, 0.0000, 0.0000, 0.0000, 0.0000, 0.0000, 0.0000, 0.0000,\n",
       "          0.0000, 0.0000, 0.0000, 0.0039, 0.0000, 0.2706, 0.8118, 0.8745,\n",
       "          0.8549, 0.8471, 0.8471, 0.6392, 0.4980, 0.4745, 0.4784, 0.5725,\n",
       "          0.5529, 0.3451, 0.6745, 0.2588],\n",
       "         [0.0000, 0.0000, 0.0000, 0.0000, 0.0000, 0.0000, 0.0000, 0.0000,\n",
       "          0.0000, 0.0039, 0.0039, 0.0039, 0.0000, 0.7843, 0.9098, 0.9098,\n",
       "          0.9137, 0.8980, 0.8745, 0.8745, 0.8431, 0.8353, 0.6431, 0.4980,\n",
       "          0.4824, 0.7686, 0.8980, 0.0000],\n",
       "         [0.0000, 0.0000, 0.0000, 0.0000, 0.0000, 0.0000, 0.0000, 0.0000,\n",
       "          0.0000, 0.0000, 0.0000, 0.0000, 0.0000, 0.7176, 0.8824, 0.8471,\n",
       "          0.8745, 0.8941, 0.9216, 0.8902, 0.8784, 0.8706, 0.8784, 0.8667,\n",
       "          0.8745, 0.9608, 0.6784, 0.0000],\n",
       "         [0.0000, 0.0000, 0.0000, 0.0000, 0.0000, 0.0000, 0.0000, 0.0000,\n",
       "          0.0000, 0.0000, 0.0000, 0.0000, 0.0000, 0.7569, 0.8941, 0.8549,\n",
       "          0.8353, 0.7765, 0.7059, 0.8314, 0.8235, 0.8275, 0.8353, 0.8745,\n",
       "          0.8627, 0.9529, 0.7922, 0.0000],\n",
       "         [0.0000, 0.0000, 0.0000, 0.0000, 0.0000, 0.0000, 0.0000, 0.0000,\n",
       "          0.0000, 0.0039, 0.0118, 0.0000, 0.0471, 0.8588, 0.8627, 0.8314,\n",
       "          0.8549, 0.7529, 0.6627, 0.8902, 0.8157, 0.8549, 0.8784, 0.8314,\n",
       "          0.8863, 0.7725, 0.8196, 0.2039],\n",
       "         [0.0000, 0.0000, 0.0000, 0.0000, 0.0000, 0.0000, 0.0000, 0.0000,\n",
       "          0.0000, 0.0000, 0.0235, 0.0000, 0.3882, 0.9569, 0.8706, 0.8627,\n",
       "          0.8549, 0.7961, 0.7765, 0.8667, 0.8431, 0.8353, 0.8706, 0.8627,\n",
       "          0.9608, 0.4667, 0.6549, 0.2196],\n",
       "         [0.0000, 0.0000, 0.0000, 0.0000, 0.0000, 0.0000, 0.0000, 0.0000,\n",
       "          0.0000, 0.0157, 0.0000, 0.0000, 0.2157, 0.9255, 0.8941, 0.9020,\n",
       "          0.8941, 0.9412, 0.9098, 0.8353, 0.8549, 0.8745, 0.9176, 0.8510,\n",
       "          0.8510, 0.8196, 0.3608, 0.0000],\n",
       "         [0.0000, 0.0000, 0.0039, 0.0157, 0.0235, 0.0275, 0.0078, 0.0000,\n",
       "          0.0000, 0.0000, 0.0000, 0.0000, 0.9294, 0.8863, 0.8510, 0.8745,\n",
       "          0.8706, 0.8588, 0.8706, 0.8667, 0.8471, 0.8745, 0.8980, 0.8431,\n",
       "          0.8549, 1.0000, 0.3020, 0.0000],\n",
       "         [0.0000, 0.0118, 0.0000, 0.0000, 0.0000, 0.0000, 0.0000, 0.0000,\n",
       "          0.0000, 0.2431, 0.5686, 0.8000, 0.8941, 0.8118, 0.8353, 0.8667,\n",
       "          0.8549, 0.8157, 0.8275, 0.8549, 0.8784, 0.8745, 0.8588, 0.8431,\n",
       "          0.8784, 0.9569, 0.6235, 0.0000],\n",
       "         [0.0000, 0.0000, 0.0000, 0.0000, 0.0706, 0.1725, 0.3216, 0.4196,\n",
       "          0.7412, 0.8941, 0.8627, 0.8706, 0.8510, 0.8863, 0.7843, 0.8039,\n",
       "          0.8275, 0.9020, 0.8784, 0.9176, 0.6902, 0.7373, 0.9804, 0.9725,\n",
       "          0.9137, 0.9333, 0.8431, 0.0000],\n",
       "         [0.0000, 0.2235, 0.7333, 0.8157, 0.8784, 0.8667, 0.8784, 0.8157,\n",
       "          0.8000, 0.8392, 0.8157, 0.8196, 0.7843, 0.6235, 0.9608, 0.7569,\n",
       "          0.8078, 0.8745, 1.0000, 1.0000, 0.8667, 0.9176, 0.8667, 0.8275,\n",
       "          0.8627, 0.9098, 0.9647, 0.0000],\n",
       "         [0.0118, 0.7922, 0.8941, 0.8784, 0.8667, 0.8275, 0.8275, 0.8392,\n",
       "          0.8039, 0.8039, 0.8039, 0.8627, 0.9412, 0.3137, 0.5882, 1.0000,\n",
       "          0.8980, 0.8667, 0.7373, 0.6039, 0.7490, 0.8235, 0.8000, 0.8196,\n",
       "          0.8706, 0.8941, 0.8824, 0.0000],\n",
       "         [0.3843, 0.9137, 0.7765, 0.8235, 0.8706, 0.8980, 0.8980, 0.9176,\n",
       "          0.9765, 0.8627, 0.7608, 0.8431, 0.8510, 0.9451, 0.2549, 0.2863,\n",
       "          0.4157, 0.4588, 0.6588, 0.8588, 0.8667, 0.8431, 0.8510, 0.8745,\n",
       "          0.8745, 0.8784, 0.8980, 0.1137],\n",
       "         [0.2941, 0.8000, 0.8314, 0.8000, 0.7569, 0.8039, 0.8275, 0.8824,\n",
       "          0.8471, 0.7255, 0.7725, 0.8078, 0.7765, 0.8353, 0.9412, 0.7647,\n",
       "          0.8902, 0.9608, 0.9373, 0.8745, 0.8549, 0.8314, 0.8196, 0.8706,\n",
       "          0.8627, 0.8667, 0.9020, 0.2627],\n",
       "         [0.1882, 0.7961, 0.7176, 0.7608, 0.8353, 0.7725, 0.7255, 0.7451,\n",
       "          0.7608, 0.7529, 0.7922, 0.8392, 0.8588, 0.8667, 0.8627, 0.9255,\n",
       "          0.8824, 0.8471, 0.7804, 0.8078, 0.7294, 0.7098, 0.6941, 0.6745,\n",
       "          0.7098, 0.8039, 0.8078, 0.4510],\n",
       "         [0.0000, 0.4784, 0.8588, 0.7569, 0.7020, 0.6706, 0.7176, 0.7686,\n",
       "          0.8000, 0.8235, 0.8353, 0.8118, 0.8275, 0.8235, 0.7843, 0.7686,\n",
       "          0.7608, 0.7490, 0.7647, 0.7490, 0.7765, 0.7529, 0.6902, 0.6118,\n",
       "          0.6549, 0.6941, 0.8235, 0.3608],\n",
       "         [0.0000, 0.0000, 0.2902, 0.7412, 0.8314, 0.7490, 0.6863, 0.6745,\n",
       "          0.6863, 0.7098, 0.7255, 0.7373, 0.7412, 0.7373, 0.7569, 0.7765,\n",
       "          0.8000, 0.8196, 0.8235, 0.8235, 0.8275, 0.7373, 0.7373, 0.7608,\n",
       "          0.7529, 0.8471, 0.6667, 0.0000],\n",
       "         [0.0078, 0.0000, 0.0000, 0.0000, 0.2588, 0.7843, 0.8706, 0.9294,\n",
       "          0.9373, 0.9490, 0.9647, 0.9529, 0.9569, 0.8667, 0.8627, 0.7569,\n",
       "          0.7490, 0.7020, 0.7137, 0.7137, 0.7098, 0.6902, 0.6510, 0.6588,\n",
       "          0.3882, 0.2275, 0.0000, 0.0000],\n",
       "         [0.0000, 0.0000, 0.0000, 0.0000, 0.0000, 0.0000, 0.0000, 0.1569,\n",
       "          0.2392, 0.1725, 0.2824, 0.1608, 0.1373, 0.0000, 0.0000, 0.0000,\n",
       "          0.0000, 0.0000, 0.0000, 0.0000, 0.0000, 0.0000, 0.0000, 0.0000,\n",
       "          0.0000, 0.0000, 0.0000, 0.0000],\n",
       "         [0.0000, 0.0000, 0.0000, 0.0000, 0.0000, 0.0000, 0.0000, 0.0000,\n",
       "          0.0000, 0.0000, 0.0000, 0.0000, 0.0000, 0.0000, 0.0000, 0.0000,\n",
       "          0.0000, 0.0000, 0.0000, 0.0000, 0.0000, 0.0000, 0.0000, 0.0000,\n",
       "          0.0000, 0.0000, 0.0000, 0.0000],\n",
       "         [0.0000, 0.0000, 0.0000, 0.0000, 0.0000, 0.0000, 0.0000, 0.0000,\n",
       "          0.0000, 0.0000, 0.0000, 0.0000, 0.0000, 0.0000, 0.0000, 0.0000,\n",
       "          0.0000, 0.0000, 0.0000, 0.0000, 0.0000, 0.0000, 0.0000, 0.0000,\n",
       "          0.0000, 0.0000, 0.0000, 0.0000]]])"
      ]
     },
     "execution_count": 6,
     "metadata": {},
     "output_type": "execute_result"
    }
   ],
   "source": [
    "# each example contains 2 things: an image (analogous to the population in the first part, aka the input)\n",
    "# and a class (analogous to the profit in the first part, aka the output)\n",
    "mnist_train_dataset[0][0]"
   ]
  },
  {
   "cell_type": "code",
   "execution_count": 13,
   "metadata": {},
   "outputs": [
    {
     "data": {
      "text/plain": [
       "9"
      ]
     },
     "execution_count": 13,
     "metadata": {},
     "output_type": "execute_result"
    },
    {
     "data": {
      "image/png": "[encoded data removed]",
      "text/plain": [
       "<Figure size 640x480 with 1 Axes>"
      ]
     },
     "metadata": {},
     "output_type": "display_data"
    }
   ],
   "source": [
    "# we can matplotlib to display an image\n",
    "# mnist_train_dataset[0] contains the image and class, so we need mnist_train_dataset[0][0] to get the image\n",
    "# the image has shape 1 x 28 x 28: this represents a grayscale image in PyTorch (as in, not a color image)\n",
    "# if it were a color image, it would have had the shape 3 x 28 x 28, because we would have needed a red value, a green value and a blue value\n",
    "# since computers usually represent color as a mix of red, green and blue\n",
    "# matplotlib accepts tensors as input, but doesn't like the extra axis (dimension) of size 1\n",
    "# which is why we need to index one extra time into the array, leaving us with a 28 x 28 image\n",
    "# matplotlib requires cmap = \"gray\" to plot the image as a grayscale image\n",
    "# printing the class, we notice it has the value 9, which, by consulting the table from the presentation\n",
    "# we can see refers to an ankle boot, which the image seems to showcase\n",
    "import matplotlib.pyplot as plt\n",
    "plt.imshow(mnist_train_dataset[0][0][0], cmap = \"gray\")\n",
    "mnist_train_dataset[0][1]"
   ]
  },
  {
   "cell_type": "code",
   "execution_count": 14,
   "metadata": {},
   "outputs": [],
   "source": [
    "# this is the test dataset and has the same format as the train dataset\n",
    "# we use the test dataset only after we have trained the model\n",
    "# never ever ever train a model on the test dataset :)\n",
    "# the point of the test dataset is to distinguish between a model that has only managed to memorize the training dataset\n",
    "# (such a model can be found at the beginning of the presentation)\n",
    "# and a model that has managed to learn something from the dataset, and will be able to produce good outputs for inputs that\n",
    "# it hasn't already seen\n",
    "mnist_test_dataset = FashionMNIST(root = \"/data\", train = False, transform = ToTensor(), download = True)"
   ]
  },
  {
   "cell_type": "code",
   "execution_count": 15,
   "metadata": {},
   "outputs": [
    {
     "data": {
      "text/plain": [
       "60000"
      ]
     },
     "execution_count": 15,
     "metadata": {},
     "output_type": "execute_result"
    }
   ],
   "source": [
    "len(mnist_train_dataset)"
   ]
  },
  {
   "cell_type": "code",
   "execution_count": 16,
   "metadata": {},
   "outputs": [
    {
     "data": {
      "text/plain": [
       "10000"
      ]
     },
     "execution_count": 16,
     "metadata": {},
     "output_type": "execute_result"
    }
   ],
   "source": [
    "len(mnist_test_dataset)"
   ]
  },
  {
   "cell_type": "code",
   "execution_count": 17,
   "metadata": {},
   "outputs": [],
   "source": [
    "# torchvision.datasets.FashionMNIST produces pytorch datasets (meaning instances of the torch.utils.data.Dataset class)\n",
    "# so we can pass them to a DataLoader\n",
    "mnist_train_loader = DataLoader(mnist_train_dataset, batch_size = 10)\n",
    "mnist_test_loader = DataLoader(mnist_test_dataset, batch_size = 10)"
   ]
  },
  {
   "cell_type": "code",
   "execution_count": 18,
   "metadata": {},
   "outputs": [],
   "source": [
    "# we want to use a model that looks like y = a1*x1+a2*x2+...an*xn+b on the image\n",
    "# just like we did for the population - profit dataset\n",
    "# this requires that we have a list of input features\n",
    "# but what we have at the moment is a matrix of input features\n",
    "# (since our image is represented as a matrix of pixels)\n",
    "# to deal with that, we take all the lines in the matrix of pixels\n",
    "# and place them next to each other, forming a long vector of pixels\n",
    "# nn.Flatten() implements this functionality\n",
    "flatten_layer = nn.Flatten()"
   ]
  },
  {
   "cell_type": "code",
   "execution_count": 20,
   "metadata": {},
   "outputs": [],
   "source": [
    "flattened_images = flatten_layer(torch.rand((1, 28, 28)))"
   ]
  },
  {
   "cell_type": "code",
   "execution_count": 21,
   "metadata": {},
   "outputs": [
    {
     "data": {
      "text/plain": [
       "torch.Size([1, 784])"
      ]
     },
     "execution_count": 21,
     "metadata": {},
     "output_type": "execute_result"
    }
   ],
   "source": [
    "flattened_images.shape"
   ]
  },
  {
   "cell_type": "code",
   "execution_count": 22,
   "metadata": {},
   "outputs": [
    {
     "data": {
      "text/plain": [
       "784"
      ]
     },
     "execution_count": 22,
     "metadata": {},
     "output_type": "execute_result"
    }
   ],
   "source": [
    "28*28"
   ]
  },
  {
   "cell_type": "code",
   "execution_count": 27,
   "metadata": {},
   "outputs": [],
   "source": [
    "# with the flatten layer we got our hands on a vector of 784 elements\n",
    "# since our dataset has 10 classes, we need a model that outputs 10 values\n",
    "# which is why we pass 784 and 10 to nn.Linear\n",
    "# EXTRAish note: since we have 784 input features, and we are doing linear regression\n",
    "# we will end up with 784 parameters \n",
    "# however, we are not doing only one linear regression, we are doing 10 of them: one for each of the 10 outputs of the model\n",
    "# this new model has (ignoring the bias terms) 784 * 10 parameters\n",
    "# it sounds convenient to store these parameters in a matrix: the first line contains the 784 parameters for the first linear regression\n",
    "# and so on until the last line (row) which contains the 784 parameters for the 10th linear regression\n",
    "# we would end up with a 10 x 784 matrix (as we can see in the .weight attribute in the following cell)\n",
    "linear_regression_layer = nn.Linear(784, 10)"
   ]
  },
  {
   "cell_type": "code",
   "execution_count": 26,
   "metadata": {},
   "outputs": [
    {
     "data": {
      "text/plain": [
       "torch.Size([10, 784])"
      ]
     },
     "execution_count": 26,
     "metadata": {},
     "output_type": "execute_result"
    }
   ],
   "source": [
    "# placing the parameters of the model in the shape of a matrix is not only convenient\n",
    "# you might remember that in matrix multiplication we take each row of the left matrix\n",
    "# and \"operate\" it with each columns of the right matrix\n",
    "# now if the first row is equal to a1, a2, ... a784 (our parameters)\n",
    "# and the first column is our flattened image vector p1, p2, ..., p784\n",
    "# that \"operate\" would lead us to a1*p1+a2*p2+...+a784*p784\n",
    "# by this logic we can see that (ignoring the bias term once again)\n",
    "# the output of nn.Linear(784, 10) will be equal to A*x.T\n",
    "# here, A is the matrix of parameters that we discusses above\n",
    "# and x.T is a matrix made out of a single column containing the model's inputs\n",
    "linear_regression_layer.weight.shape"
   ]
  },
  {
   "cell_type": "markdown",
   "metadata": {},
   "source": [
    "In the following 2 cells we are first using the nn.Linear(784, 10) layer, and then computing its output manually by essentially A @ x.T + bias.T. As a challenge you can try to figure out how everything works (Why do we need .float(), why do we need .reshape(-1, 1) etc.)."
   ]
  },
  {
   "cell_type": "code",
   "execution_count": 33,
   "metadata": {},
   "outputs": [
    {
     "data": {
      "text/plain": [
       "tensor([[  39.0755, -291.0217,  253.0401, -325.7418,  -80.6837,  289.0842,\n",
       "          141.4518, -162.6425,  254.1929,  -68.1710]],\n",
       "       grad_fn=<AddmmBackward0>)"
      ]
     },
     "execution_count": 33,
     "metadata": {},
     "output_type": "execute_result"
    }
   ],
   "source": [
    "linear_regression_layer(torch.arange(784).reshape(1, 784).float())"
   ]
  },
  {
   "cell_type": "code",
   "execution_count": 43,
   "metadata": {},
   "outputs": [
    {
     "data": {
      "text/plain": [
       "tensor([[  39.0755],\n",
       "        [-291.0217],\n",
       "        [ 253.0401],\n",
       "        [-325.7418],\n",
       "        [ -80.6837],\n",
       "        [ 289.0842],\n",
       "        [ 141.4518],\n",
       "        [-162.6425],\n",
       "        [ 254.1929],\n",
       "        [ -68.1710]])"
      ]
     },
     "execution_count": 43,
     "metadata": {},
     "output_type": "execute_result"
    }
   ],
   "source": [
    "linear_regression_layer.weight.data @ (torch.arange(784).reshape(1, 784).float().T) + linear_regression_layer.bias.data.reshape(-1, 1)"
   ]
  },
  {
   "cell_type": "code",
   "execution_count": 44,
   "metadata": {},
   "outputs": [],
   "source": [
    "# at this point we have done 2 things to the input image: flattened it, and passed it through a linear layer\n",
    "# we can express that in PyTorch using nn.Sequential: this layer will run its input through all of its components:\n",
    "# first through nn.Flatten(), and then through nn.Linear()\n",
    "model = nn.Sequential(nn.Flatten(), nn.Linear(28*28, 10))"
   ]
  },
  {
   "cell_type": "code",
   "execution_count": 45,
   "metadata": {},
   "outputs": [
    {
     "data": {
      "text/plain": [
       "torch.Size([10, 784])"
      ]
     },
     "execution_count": 45,
     "metadata": {},
     "output_type": "execute_result"
    }
   ],
   "source": [
    "nn.Flatten()(torch.ones(10, 28, 28)).shape"
   ]
  },
  {
   "cell_type": "code",
   "execution_count": 47,
   "metadata": {},
   "outputs": [
    {
     "data": {
      "text/plain": [
       "tensor([[-0.8377, -0.1291,  0.4051, -0.5426, -0.1941,  0.1692,  0.0970,  0.5697,\n",
       "          0.0627,  0.5365]], grad_fn=<AddmmBackward0>)"
      ]
     },
     "execution_count": 47,
     "metadata": {},
     "output_type": "execute_result"
    }
   ],
   "source": [
    "# looking at this input, we might wonder just what could it possibly means\n",
    "# for problems where we want to classify something as belonging to a class or another\n",
    "# (in our situation, images as containing a t-shirt, or a shirt, or trousers etc)\n",
    "# we will look at the output and figure out the position of the highest value\n",
    "# in our case, 0.5697 is the greatest value, and it is the 8th in the result\n",
    "# so our model has classified the image we gave it as having an ankle boot in it\n",
    "model(torch.ones((1, 28, 28)))"
   ]
  },
  {
   "cell_type": "code",
   "execution_count": 53,
   "metadata": {},
   "outputs": [],
   "source": [
    "# now that we have a model, we will also need a loss function\n",
    "# for classification problems, the most used loss function is the cross entropy loss\n",
    "# the cross entropy loss first transforms the model's outputs to probabilities by using\n",
    "# the softmax function: this function takes in any numbers, and produces new numbers\n",
    "# that add up to 1, and that are positive (as a result of being positive and adding up to 1, they are also <= 1)\n",
    "# for numbers a, b, c the softmax function will output numbers e^a/(e^a+e^b+e^c), e^b/(e^a+e^b+e^c) and e^c/(e^a+e^b+e^c)\n",
    "# EXTRA: convince yourself those numbers are positive and add up to 1\n",
    "# In the previous cell, we took the largest value in the model's output and went with it\n",
    "# If we were to apply softmax, the largest value in the model's output would have still remained the largest value\n",
    "# However now we are also looking at the rest: we are doing a comparison between the largest value and the rest\n",
    "# To see that, notice that in the formula we are dividing (e^c) by (e^a+e^b+e^c), so we are comparing that value, e^c\n",
    "# to the rest of the values, e^a+e^b+e^c\n",
    "# CrossEntropyLoss than looks at what the correct value would have been, extracts the probability that correspond to it\n",
    "# and penalizes the model according to the formula -ln(p)\n",
    "# so if the model gave a probability of 1 for the correct class, than it would have received a penalty of -ln(1)=0, a.k.a no penalty\n",
    "# on the other hand, if the model gave a probability of 0 to the correct class, it would have been drastically penalized, by -ln(0),\n",
    "# which evaluates to infinity (as a limit, but as far as we're concerned the penalty would be extremely large)\n",
    "loss_function = nn.CrossEntropyLoss()"
   ]
  },
  {
   "cell_type": "code",
   "execution_count": 54,
   "metadata": {},
   "outputs": [
    {
     "data": {
      "text/plain": [
       "tensor(3.0659)"
      ]
     },
     "execution_count": 54,
     "metadata": {},
     "output_type": "execute_result"
    }
   ],
   "source": [
    "# to evaluate the cross entropy loss, we need to pass the model's outputs, and the correct class\n",
    "# for this example, PyTorch first applies Softmax, turning the value from 1, 2, 5 to\n",
    "# e^1/(e^1+e^2+e^5), e^2/(e^1+e^2+e^5), e^5/(e^1+e^2+e^5)\n",
    "# these end up equal to ~0.017, ~0.046 and ~0.93\n",
    "# we told the loss function that the correct class is class at index 1\n",
    "# so it applies a penalty of -ln(0.046)~3.07\n",
    "loss_function(torch.Tensor([[1., 2., 5.]]), torch.LongTensor([1]))"
   ]
  },
  {
   "cell_type": "markdown",
   "metadata": {},
   "source": [
    "The code below manually computes cross entropy loss for the same inputs as the nn.CrossEntropyLoss function received above:"
   ]
  },
  {
   "cell_type": "code",
   "execution_count": 64,
   "metadata": {},
   "outputs": [
    {
     "data": {
      "text/plain": [
       "tensor(158.5205)"
      ]
     },
     "execution_count": 64,
     "metadata": {},
     "output_type": "execute_result"
    }
   ],
   "source": [
    "denominator = torch.exp(torch.Tensor([1., 2., 5.])).sum()\n",
    "denominator"
   ]
  },
  {
   "cell_type": "code",
   "execution_count": 65,
   "metadata": {},
   "outputs": [
    {
     "data": {
      "text/plain": [
       "tensor([0.0466])"
      ]
     },
     "execution_count": 65,
     "metadata": {},
     "output_type": "execute_result"
    }
   ],
   "source": [
    "probability_for_class_1 = torch.exp(torch.Tensor([2])) / denominator\n",
    "probability_for_class_1"
   ]
  },
  {
   "cell_type": "code",
   "execution_count": 63,
   "metadata": {},
   "outputs": [
    {
     "data": {
      "text/plain": [
       "tensor([3.0659])"
      ]
     },
     "execution_count": 63,
     "metadata": {},
     "output_type": "execute_result"
    }
   ],
   "source": [
    "penalty = -torch.log(probability_for_class_1)\n",
    "penalty"
   ]
  },
  {
   "cell_type": "code",
   "execution_count": 66,
   "metadata": {},
   "outputs": [],
   "source": [
    "# SGD optimizer, same as before\n",
    "optimizer = torch.optim.SGD(model.parameters(), lr = 0.1)"
   ]
  },
  {
   "cell_type": "code",
   "execution_count": 67,
   "metadata": {},
   "outputs": [],
   "source": [
    "for epoch in range(10):\n",
    "    for pixels_batch, classes_batch in mnist_train_loader:\n",
    "        predicted_probabilities = model(pixels_batch)\n",
    "        loss = loss_function(predicted_probabilities, classes_batch)\n",
    "        optimizer.zero_grad()\n",
    "        loss.backward()\n",
    "        optimizer.step()"
   ]
  },
  {
   "cell_type": "code",
   "execution_count": 69,
   "metadata": {},
   "outputs": [],
   "source": [
    "# remember we should test on the test dataset, and not the train dataset\n",
    "# we can obviously pass an image from the training dataset through the model\n",
    "# but that may not reflect too accurately how good the model actually is\n",
    "test_image, real_class = mnist_test_dataset[0]"
   ]
  },
  {
   "cell_type": "code",
   "execution_count": 76,
   "metadata": {},
   "outputs": [],
   "source": [
    "# pass the image through the model\n",
    "# Note: the trained model is nowhere near perfect, meaning it will misclasify images\n",
    "# If you retrain, due to starting from different initial values for the weight and bias\n",
    "# you may end up with a model that misclasifies the image that we're testing it with now \n",
    "model_output = model(test_image)"
   ]
  },
  {
   "cell_type": "code",
   "execution_count": 77,
   "metadata": {},
   "outputs": [
    {
     "data": {
      "text/plain": [
       "tensor([[-8.4316, -9.2156, -2.6557, -3.8496, -6.5907,  8.0516, -2.2205,  7.6194,\n",
       "          6.6764, 10.7622]], grad_fn=<AddmmBackward0>)"
      ]
     },
     "execution_count": 77,
     "metadata": {},
     "output_type": "execute_result"
    }
   ],
   "source": [
    "model_output"
   ]
  },
  {
   "cell_type": "code",
   "execution_count": 78,
   "metadata": {},
   "outputs": [],
   "source": [
    "# torch.argmax returns the position of the largest value in model_output\n",
    "# in our case, that is the final position (10th position, 9 because we start counting at 0)\n",
    "predicted_class = torch.argmax(model_output)"
   ]
  },
  {
   "cell_type": "code",
   "execution_count": 73,
   "metadata": {},
   "outputs": [
    {
     "data": {
      "text/plain": [
       "tensor(9)"
      ]
     },
     "execution_count": 73,
     "metadata": {},
     "output_type": "execute_result"
    }
   ],
   "source": [
    "predicted_class"
   ]
  },
  {
   "cell_type": "markdown",
   "metadata": {},
   "source": [
    "Above we can see that the last value in the output tensor is bigger than the rest, so we take that value to be the class that the model predicted. The legend in the presentation tells us that it corresponds to an ankle boot. Let's plot the image and see if that's really the case."
   ]
  },
  {
   "cell_type": "code",
   "execution_count": 74,
   "metadata": {},
   "outputs": [],
   "source": [
    "from matplotlib import pyplot as plt"
   ]
  },
  {
   "cell_type": "code",
   "execution_count": 75,
   "metadata": {},
   "outputs": [
    {
     "data": {
      "text/plain": [
       "<matplotlib.image.AxesImage at 0x26efa90c7f0>"
      ]
     },
     "execution_count": 75,
     "metadata": {},
     "output_type": "execute_result"
    },
    {
     "data": {
      "image/png": "[encoded data removed]",
      "text/plain": [
       "<Figure size 640x480 with 1 Axes>"
      ]
     },
     "metadata": {},
     "output_type": "display_data"
    }
   ],
   "source": [
    "plt.imshow(test_image[0], cmap = \"gray\")"
   ]
  },
  {
   "cell_type": "code",
   "execution_count": null,
   "metadata": {},
   "outputs": [],
   "source": []
  }
 ],
 "metadata": {
  "kernelspec": {
   "display_name": "lv",
   "language": "python",
   "name": "python3"
  },
  "language_info": {
   "codemirror_mode": {
    "name": "ipython",
    "version": 3
   },
   "file_extension": ".py",
   "mimetype": "text/x-python",
   "name": "python",
   "nbconvert_exporter": "python",
   "pygments_lexer": "ipython3",
   "version": "3.9.19"
  }
 },
 "nbformat": 4,
 "nbformat_minor": 2
}
